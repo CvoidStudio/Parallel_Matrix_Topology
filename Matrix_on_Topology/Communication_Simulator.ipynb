{
 "cells": [
  {
   "cell_type": "code",
   "execution_count": 1,
   "metadata": {},
   "outputs": [],
   "source": [
    "import numpy as np\n",
    "import pandas as pd\n",
    "from matplotlib import pyplot as plt"
   ]
  },
  {
   "cell_type": "code",
   "execution_count": 2,
   "metadata": {},
   "outputs": [],
   "source": [
    "def print_mat(MAT, Format = '%.0f '):\n",
    "    for r in MAT:\n",
    "        Line = ''\n",
    "        for c in r:     \n",
    "            Line += (Format%(c))  \n",
    "        print(Line)"
   ]
  },
  {
   "cell_type": "code",
   "execution_count": 3,
   "metadata": {},
   "outputs": [],
   "source": [
    "def Draw_mat(M, colorbar=False):\n",
    "    global P\n",
    "    plt.figure(figsize = [5,5])\n",
    "    \n",
    "    for i in np.arange(0.5,P-1,1.0):\n",
    "        plt.axhline(y=i, xmin=-0.5, xmax=P-0.5, linewidth=2, color=(0.5,0.5,0.5))\n",
    "        plt.axvline(x=i, ymin=-0.5, ymax=P-0.5, linewidth=2, color=(0.5,0.5,0.5))\n",
    "    plt.imshow(M if colorbar else 1-M, cmap = plt.cm.hot, interpolation = 'nearest')\n",
    "    \n",
    "    plt.xticks(range(0,M.shape[1],4))\n",
    "    plt.yticks(range(0,M.shape[0],4))\n",
    "    \n",
    "    if colorbar:\n",
    "        plt.colorbar(ticks=range((int)(np.max(M))+1), orientation='vertical')\n",
    "    \n",
    "    plt.show()\n",
    "                "
   ]
  },
  {
   "cell_type": "code",
   "execution_count": 4,
   "metadata": {},
   "outputs": [],
   "source": [
    "P = 16\n",
    "Init_Data = np.zeros((P,1), dtype = 'float32')"
   ]
  },
  {
   "cell_type": "code",
   "execution_count": 5,
   "metadata": {},
   "outputs": [],
   "source": [
    "# Allocate Initial Data\n",
    "Init_Data[0][0] = 1.0"
   ]
  },
  {
   "cell_type": "code",
   "execution_count": 6,
   "metadata": {},
   "outputs": [
    {
     "name": "stdout",
     "output_type": "stream",
     "text": [
      "1 0 0 0 0 0 0 0 0 0 0 0 0 0 0 0 \n"
     ]
    }
   ],
   "source": [
    "print_mat(np.transpose(Init_Data))"
   ]
  },
  {
   "cell_type": "code",
   "execution_count": 7,
   "metadata": {},
   "outputs": [],
   "source": [
    "# Adjacency Matrix\n",
    "def Get_ADJ(file_path):\n",
    "    F = pd.read_csv(file_path, delimiter = ' ', header = None)\n",
    "    return (F.values).astype('float32')"
   ]
  },
  {
   "cell_type": "code",
   "execution_count": 8,
   "metadata": {},
   "outputs": [],
   "source": [
    "Adj = Get_ADJ('topology/16k3grid.adj')"
   ]
  },
  {
   "cell_type": "code",
   "execution_count": 9,
   "metadata": {},
   "outputs": [
    {
     "data": {
      "image/png": "[encoded data removed]",
      "text/plain": [
       "<matplotlib.figure.Figure at 0x1a3faa54dd8>"
      ]
     },
     "metadata": {},
     "output_type": "display_data"
    }
   ],
   "source": [
    "Draw_mat(Adj)"
   ]
  },
  {
   "cell_type": "code",
   "execution_count": 10,
   "metadata": {},
   "outputs": [],
   "source": [
    "I_P = np.identity(P)"
   ]
  },
  {
   "cell_type": "code",
   "execution_count": 11,
   "metadata": {},
   "outputs": [],
   "source": [
    "O_PP = np.ones([P,P],dtype = 'float32')\n",
    "O_1P = np.ones([1,P],dtype = 'float32')"
   ]
  },
  {
   "cell_type": "code",
   "execution_count": 12,
   "metadata": {},
   "outputs": [],
   "source": [
    "def smoothstep(x):\n",
    "    R,C = x.shape\n",
    "    for r in range(R):\n",
    "        for c in range(C):\n",
    "            if x[c][r] > 1:\n",
    "                x[c][r] = 1"
   ]
  },
  {
   "cell_type": "code",
   "execution_count": 13,
   "metadata": {},
   "outputs": [],
   "source": [
    "def Iter_Comm(A_now, D_now):\n",
    "    global O_PP, O_1P\n",
    "    D_next = np.matmul(I_P+Adj,D_now)\n",
    "    smoothstep(D_next)\n",
    "    #D_next = ((np.matmul(I_P+Adj,D_now))>=1).astype('float32')\n",
    "    #A_next = A_now * (O_PP - np.matmul(D_next, O_1P))\n",
    "    return A_now, D_next\n",
    "    "
   ]
  },
  {
   "cell_type": "code",
   "execution_count": 14,
   "metadata": {},
   "outputs": [],
   "source": [
    "from copy import copy"
   ]
  },
  {
   "cell_type": "markdown",
   "metadata": {},
   "source": [
    "# Simulation"
   ]
  },
  {
   "cell_type": "code",
   "execution_count": 15,
   "metadata": {},
   "outputs": [
    {
     "data": {
      "image/png": "[encoded data removed]",
      "text/plain": [
       "<matplotlib.figure.Figure at 0x1a3fcb68f28>"
      ]
     },
     "metadata": {},
     "output_type": "display_data"
    },
    {
     "data": {
      "image/png": "[encoded data removed]",
      "text/plain": [
       "<matplotlib.figure.Figure at 0x1a3fcb68f98>"
      ]
     },
     "metadata": {},
     "output_type": "display_data"
    },
    {
     "data": {
      "image/png": "[encoded data removed]",
      "text/plain": [
       "<matplotlib.figure.Figure at 0x1a3fcc28588>"
      ]
     },
     "metadata": {},
     "output_type": "display_data"
    },
    {
     "data": {
      "image/png": "[encoded data removed]",
      "text/plain": [
       "<matplotlib.figure.Figure at 0x1a3fccc6550>"
      ]
     },
     "metadata": {},
     "output_type": "display_data"
    },
    {
     "data": {
      "image/png": "[encoded data removed]",
      "text/plain": [
       "<matplotlib.figure.Figure at 0x1a3fcd59908>"
      ]
     },
     "metadata": {},
     "output_type": "display_data"
    },
    {
     "data": {
      "image/png": "[encoded data removed]",
      "text/plain": [
       "<matplotlib.figure.Figure at 0x1a3f9fbf470>"
      ]
     },
     "metadata": {},
     "output_type": "display_data"
    }
   ],
   "source": [
    "A = copy(Adj)\n",
    "#D = copy(Init_Data)\n",
    "D = np.identity(P)\n",
    "\n",
    "step = 0\n",
    "Draw_mat(np.transpose(D))\n",
    "while (np.min(D) == 0):\n",
    "    A,D_N = Iter_Comm(A,D)\n",
    "    Draw_mat(np.transpose(D_N - D))\n",
    "    D = D_N\n",
    "    step += 1"
   ]
  },
  {
   "cell_type": "code",
   "execution_count": 16,
   "metadata": {},
   "outputs": [
    {
     "data": {
      "image/png": "[encoded data removed]",
      "text/plain": [
       "<matplotlib.figure.Figure at 0x1a3fcb775c0>"
      ]
     },
     "metadata": {},
     "output_type": "display_data"
    }
   ],
   "source": [
    "A = copy(Adj)\n",
    "#D = copy(Init_Data)\n",
    "D = np.identity(P)\n",
    "step = 0\n",
    "Distance_Mat = np.zeros([P,P])\n",
    "while (np.min(D) == 0):\n",
    "    A,D_N = Iter_Comm(A,D)\n",
    "    \n",
    "    step += 1\n",
    "    Distance_Mat += (step*(D_N - D))\n",
    "    D = D_N\n",
    "    \n",
    "Draw_mat(Distance_Mat, colorbar = True)"
   ]
  },
  {
   "cell_type": "markdown",
   "metadata": {},
   "source": [
    "# A & D"
   ]
  },
  {
   "cell_type": "code",
   "execution_count": 17,
   "metadata": {},
   "outputs": [],
   "source": [
    "def Avg_Dist(Dist_M):\n",
    "    global P\n",
    "    return np.sum(Dist_M)/(P*(P-1))\n",
    "\n",
    "def Diameter(Dist_M):\n",
    "    return np.max(Dist_M)"
   ]
  },
  {
   "cell_type": "code",
   "execution_count": 18,
   "metadata": {},
   "outputs": [
    {
     "data": {
      "text/plain": [
       "2.5333333333333332"
      ]
     },
     "execution_count": 18,
     "metadata": {},
     "output_type": "execute_result"
    }
   ],
   "source": [
    "Avg_Dist(Distance_Mat)"
   ]
  },
  {
   "cell_type": "code",
   "execution_count": 19,
   "metadata": {},
   "outputs": [
    {
     "data": {
      "text/plain": [
       "5.0"
      ]
     },
     "execution_count": 19,
     "metadata": {},
     "output_type": "execute_result"
    }
   ],
   "source": [
    "Diameter(Distance_Mat)"
   ]
  },
  {
   "cell_type": "markdown",
   "metadata": {},
   "source": [
    "# Circuits (Rings)"
   ]
  },
  {
   "cell_type": "code",
   "execution_count": 20,
   "metadata": {},
   "outputs": [],
   "source": [
    "# DFS\n",
    "class Tree_Node():\n",
    "    def __init__(self, m_rank, prev):\n",
    "        self.child = []\n",
    "        self.my_rank = m_rank\n",
    "        self.prev = prev\n",
    "    \n",
    "    def Add_Node(self, rank):\n",
    "        self.child.append(Tree_Node(rank,self.my_rank))\n",
    "\n"
   ]
  },
  {
   "cell_type": "code",
   "execution_count": 21,
   "metadata": {},
   "outputs": [],
   "source": [
    "def Count_Cycles_On(adj,p):\n",
    "    Step_Tree = [Tree_Node(p,-1)]\n",
    "    "
   ]
  }
 ],
 "metadata": {
  "kernelspec": {
   "display_name": "Python 3",
   "language": "python",
   "name": "python3"
  },
  "language_info": {
   "codemirror_mode": {
    "name": "ipython",
    "version": 3
   },
   "file_extension": ".py",
   "mimetype": "text/x-python",
   "name": "python",
   "nbconvert_exporter": "python",
   "pygments_lexer": "ipython3",
   "version": "3.6.3"
  }
 },
 "nbformat": 4,
 "nbformat_minor": 2
}
