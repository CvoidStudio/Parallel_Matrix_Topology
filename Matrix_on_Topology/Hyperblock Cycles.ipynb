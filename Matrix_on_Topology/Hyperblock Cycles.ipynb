{
 "cells": [
  {
   "cell_type": "code",
   "execution_count": 1,
   "metadata": {},
   "outputs": [],
   "source": [
    "import numpy as np\n",
    "import pandas as pd\n",
    "from matplotlib import pyplot as plt"
   ]
  },
  {
   "cell_type": "code",
   "execution_count": 2,
   "metadata": {},
   "outputs": [],
   "source": [
    "# number of cores\n",
    "P = 16"
   ]
  },
  {
   "cell_type": "code",
   "execution_count": 3,
   "metadata": {},
   "outputs": [],
   "source": [
    "# Create Empty blocks\n",
    "m = 128\n",
    "l = 128\n",
    "n = 128"
   ]
  },
  {
   "cell_type": "code",
   "execution_count": 4,
   "metadata": {},
   "outputs": [],
   "source": [
    "def Draw_mat(M, title, colorbar=False):\n",
    "    global P\n",
    "    plt.figure(figsize = [5,5])\n",
    "    \n",
    "    for i in np.arange(0.5,P-1,1.0):\n",
    "        plt.axhline(y=i, xmin=-0.5, xmax=P-0.5, linewidth=2, color=(0.5,0.5,0.5))\n",
    "        plt.axvline(x=i, ymin=-0.5, ymax=P-0.5, linewidth=2, color=(0.5,0.5,0.5))\n",
    "    plt.imshow(M if colorbar else 1-M, cmap = plt.cm.hot, interpolation = 'nearest')\n",
    "    \n",
    "    plt.xticks(range(0,M.shape[1],4))\n",
    "    plt.yticks(range(0,M.shape[0],4))\n",
    "    \n",
    "    if colorbar:\n",
    "        plt.colorbar()\n",
    "    plt.title(title)\n",
    "    \n",
    "    plt.show()\n",
    "                "
   ]
  },
  {
   "cell_type": "code",
   "execution_count": 5,
   "metadata": {},
   "outputs": [],
   "source": [
    "from HCube import HyperCube as HCB"
   ]
  },
  {
   "cell_type": "code",
   "execution_count": 6,
   "metadata": {},
   "outputs": [],
   "source": [
    "HCube1 = HCB(P,m,l,n)\n",
    "HCube1.Shade_from_HBC('HCube_example/P16/P16_Fox2_2x', separator=' ')"
   ]
  },
  {
   "cell_type": "code",
   "execution_count": 7,
   "metadata": {},
   "outputs": [],
   "source": [
    "PA,PB = HCube1.Calculate_Potentials()"
   ]
  },
  {
   "cell_type": "code",
   "execution_count": 8,
   "metadata": {},
   "outputs": [
    {
     "data": {
      "text/plain": [
       "(128, 128)"
      ]
     },
     "execution_count": 8,
     "metadata": {},
     "output_type": "execute_result"
    }
   ],
   "source": [
    "HCube1.whole_area_A[:,:,0].shape"
   ]
  },
  {
   "cell_type": "code",
   "execution_count": 9,
   "metadata": {},
   "outputs": [
    {
     "data": {
      "image/png": "[encoded data removed]",
      "text/plain": [
       "<matplotlib.figure.Figure at 0x267a64886a0>"
      ]
     },
     "metadata": {},
     "output_type": "display_data"
    }
   ],
   "source": [
    "plt.figure(figsize=[8,8])\n",
    "plt.subplot(1,2,1)\n",
    "plt.imshow(HCube1.buffer_area_A[:,:,4])\n",
    "plt.subplot(1,2,2)\n",
    "plt.imshow(HCube1.buffer_area_B[:,:,4])\n",
    "plt.show()"
   ]
  },
  {
   "cell_type": "code",
   "execution_count": 10,
   "metadata": {},
   "outputs": [],
   "source": [
    "Linmap_A,Linmap_B = HCube1.Get_Linprog_Map()"
   ]
  },
  {
   "cell_type": "code",
   "execution_count": 11,
   "metadata": {},
   "outputs": [],
   "source": [
    "HCube1.Check_Area()"
   ]
  },
  {
   "cell_type": "code",
   "execution_count": 12,
   "metadata": {},
   "outputs": [
    {
     "data": {
      "text/plain": [
       "{(-12, 16): 1024,\n",
       " (-11, 15): 1024,\n",
       " (-10, 14): 1024,\n",
       " (-9, 13): 1024,\n",
       " (-4, 8): 1024,\n",
       " (-3, 7): 1024,\n",
       " (-2, 6): 1024,\n",
       " (-1, 5): 1024,\n",
       " (1, -5): 1024,\n",
       " (2, -6): 1024,\n",
       " (3, -7): 1024,\n",
       " (4, -8): 1024,\n",
       " (9, -13): 1024,\n",
       " (10, -14): 1024,\n",
       " (11, -15): 1024,\n",
       " (12, -16): 1024}"
      ]
     },
     "execution_count": 12,
     "metadata": {},
     "output_type": "execute_result"
    }
   ],
   "source": [
    "HCube1.Col_dict_A"
   ]
  },
  {
   "cell_type": "code",
   "execution_count": 13,
   "metadata": {},
   "outputs": [],
   "source": [
    "Mat_A = pd.DataFrame(\n",
    "    data = [\n",
    "        Linmap_A.map,\n",
    "        Linmap_A.reciever,\n",
    "        list(Linmap_A.length),\n",
    "        list(Linmap_A.area),\n",
    "        list(Linmap_A.volume)\n",
    "    ],\n",
    "    index = ['Source','Reciever','length','area','volume'])"
   ]
  },
  {
   "cell_type": "code",
   "execution_count": 14,
   "metadata": {
    "scrolled": true
   },
   "outputs": [
    {
     "data": {
      "text/html": [
       "<div>\n",
       "<style scoped>\n",
       "    .dataframe tbody tr th:only-of-type {\n",
       "        vertical-align: middle;\n",
       "    }\n",
       "\n",
       "    .dataframe tbody tr th {\n",
       "        vertical-align: top;\n",
       "    }\n",
       "\n",
       "    .dataframe thead th {\n",
       "        text-align: right;\n",
       "    }\n",
       "</style>\n",
       "<table border=\"1\" class=\"dataframe\">\n",
       "  <thead>\n",
       "    <tr style=\"text-align: right;\">\n",
       "      <th></th>\n",
       "      <th>0</th>\n",
       "      <th>1</th>\n",
       "      <th>2</th>\n",
       "      <th>3</th>\n",
       "      <th>4</th>\n",
       "      <th>5</th>\n",
       "      <th>6</th>\n",
       "      <th>7</th>\n",
       "      <th>8</th>\n",
       "      <th>9</th>\n",
       "      <th>10</th>\n",
       "      <th>11</th>\n",
       "      <th>12</th>\n",
       "      <th>13</th>\n",
       "      <th>14</th>\n",
       "      <th>15</th>\n",
       "    </tr>\n",
       "  </thead>\n",
       "  <tbody>\n",
       "    <tr>\n",
       "      <th>Source</th>\n",
       "      <td>[0]</td>\n",
       "      <td>[4]</td>\n",
       "      <td>[8]</td>\n",
       "      <td>[12]</td>\n",
       "      <td>[1]</td>\n",
       "      <td>[5]</td>\n",
       "      <td>[9]</td>\n",
       "      <td>[13]</td>\n",
       "      <td>[2]</td>\n",
       "      <td>[6]</td>\n",
       "      <td>[10]</td>\n",
       "      <td>[14]</td>\n",
       "      <td>[3]</td>\n",
       "      <td>[7]</td>\n",
       "      <td>[11]</td>\n",
       "      <td>[15]</td>\n",
       "    </tr>\n",
       "    <tr>\n",
       "      <th>Reciever</th>\n",
       "      <td>[4]</td>\n",
       "      <td>[0]</td>\n",
       "      <td>[12]</td>\n",
       "      <td>[8]</td>\n",
       "      <td>[5]</td>\n",
       "      <td>[1]</td>\n",
       "      <td>[13]</td>\n",
       "      <td>[9]</td>\n",
       "      <td>[6]</td>\n",
       "      <td>[2]</td>\n",
       "      <td>[14]</td>\n",
       "      <td>[10]</td>\n",
       "      <td>[7]</td>\n",
       "      <td>[3]</td>\n",
       "      <td>[15]</td>\n",
       "      <td>[11]</td>\n",
       "    </tr>\n",
       "    <tr>\n",
       "      <th>length</th>\n",
       "      <td>2</td>\n",
       "      <td>2</td>\n",
       "      <td>2</td>\n",
       "      <td>2</td>\n",
       "      <td>2</td>\n",
       "      <td>2</td>\n",
       "      <td>2</td>\n",
       "      <td>2</td>\n",
       "      <td>2</td>\n",
       "      <td>2</td>\n",
       "      <td>2</td>\n",
       "      <td>2</td>\n",
       "      <td>2</td>\n",
       "      <td>2</td>\n",
       "      <td>2</td>\n",
       "      <td>2</td>\n",
       "    </tr>\n",
       "    <tr>\n",
       "      <th>area</th>\n",
       "      <td>1024</td>\n",
       "      <td>1024</td>\n",
       "      <td>1024</td>\n",
       "      <td>1024</td>\n",
       "      <td>1024</td>\n",
       "      <td>1024</td>\n",
       "      <td>1024</td>\n",
       "      <td>1024</td>\n",
       "      <td>1024</td>\n",
       "      <td>1024</td>\n",
       "      <td>1024</td>\n",
       "      <td>1024</td>\n",
       "      <td>1024</td>\n",
       "      <td>1024</td>\n",
       "      <td>1024</td>\n",
       "      <td>1024</td>\n",
       "    </tr>\n",
       "    <tr>\n",
       "      <th>volume</th>\n",
       "      <td>2048</td>\n",
       "      <td>2048</td>\n",
       "      <td>2048</td>\n",
       "      <td>2048</td>\n",
       "      <td>2048</td>\n",
       "      <td>2048</td>\n",
       "      <td>2048</td>\n",
       "      <td>2048</td>\n",
       "      <td>2048</td>\n",
       "      <td>2048</td>\n",
       "      <td>2048</td>\n",
       "      <td>2048</td>\n",
       "      <td>2048</td>\n",
       "      <td>2048</td>\n",
       "      <td>2048</td>\n",
       "      <td>2048</td>\n",
       "    </tr>\n",
       "  </tbody>\n",
       "</table>\n",
       "</div>"
      ],
      "text/plain": [
       "            0     1     2     3     4     5     6     7     8     9     10  \\\n",
       "Source     [0]   [4]   [8]  [12]   [1]   [5]   [9]  [13]   [2]   [6]  [10]   \n",
       "Reciever   [4]   [0]  [12]   [8]   [5]   [1]  [13]   [9]   [6]   [2]  [14]   \n",
       "length       2     2     2     2     2     2     2     2     2     2     2   \n",
       "area      1024  1024  1024  1024  1024  1024  1024  1024  1024  1024  1024   \n",
       "volume    2048  2048  2048  2048  2048  2048  2048  2048  2048  2048  2048   \n",
       "\n",
       "            11    12    13    14    15  \n",
       "Source    [14]   [3]   [7]  [11]  [15]  \n",
       "Reciever  [10]   [7]   [3]  [15]  [11]  \n",
       "length       2     2     2     2     2  \n",
       "area      1024  1024  1024  1024  1024  \n",
       "volume    2048  2048  2048  2048  2048  "
      ]
     },
     "execution_count": 14,
     "metadata": {},
     "output_type": "execute_result"
    }
   ],
   "source": [
    "Mat_A"
   ]
  },
  {
   "cell_type": "code",
   "execution_count": 15,
   "metadata": {},
   "outputs": [],
   "source": [
    "Mat_B = pd.DataFrame(\n",
    "    data = [\n",
    "        Linmap_B.map,\n",
    "        Linmap_B.reciever,\n",
    "        list(Linmap_B.length),\n",
    "        list(Linmap_B.area),\n",
    "        list(Linmap_B.volume)\n",
    "    ],\n",
    "    index = ['Source','Reciever','length','area','volume'])"
   ]
  },
  {
   "cell_type": "code",
   "execution_count": 16,
   "metadata": {},
   "outputs": [
    {
     "data": {
      "text/html": [
       "<div>\n",
       "<style scoped>\n",
       "    .dataframe tbody tr th:only-of-type {\n",
       "        vertical-align: middle;\n",
       "    }\n",
       "\n",
       "    .dataframe tbody tr th {\n",
       "        vertical-align: top;\n",
       "    }\n",
       "\n",
       "    .dataframe thead th {\n",
       "        text-align: right;\n",
       "    }\n",
       "</style>\n",
       "<table border=\"1\" class=\"dataframe\">\n",
       "  <thead>\n",
       "    <tr style=\"text-align: right;\">\n",
       "      <th></th>\n",
       "      <th>0</th>\n",
       "      <th>1</th>\n",
       "      <th>2</th>\n",
       "      <th>3</th>\n",
       "      <th>4</th>\n",
       "      <th>5</th>\n",
       "      <th>6</th>\n",
       "      <th>7</th>\n",
       "    </tr>\n",
       "  </thead>\n",
       "  <tbody>\n",
       "    <tr>\n",
       "      <th>Source</th>\n",
       "      <td>[0, 2]</td>\n",
       "      <td>[4, 6]</td>\n",
       "      <td>[1, 3]</td>\n",
       "      <td>[5, 7]</td>\n",
       "      <td>[8, 10]</td>\n",
       "      <td>[12, 14]</td>\n",
       "      <td>[9, 11]</td>\n",
       "      <td>[13, 15]</td>\n",
       "    </tr>\n",
       "    <tr>\n",
       "      <th>Reciever</th>\n",
       "      <td>[1, 3]</td>\n",
       "      <td>[5, 7]</td>\n",
       "      <td>[0, 2]</td>\n",
       "      <td>[4, 6]</td>\n",
       "      <td>[9, 11]</td>\n",
       "      <td>[13, 15]</td>\n",
       "      <td>[8, 10]</td>\n",
       "      <td>[12, 14]</td>\n",
       "    </tr>\n",
       "    <tr>\n",
       "      <th>length</th>\n",
       "      <td>4</td>\n",
       "      <td>4</td>\n",
       "      <td>4</td>\n",
       "      <td>4</td>\n",
       "      <td>4</td>\n",
       "      <td>4</td>\n",
       "      <td>4</td>\n",
       "      <td>4</td>\n",
       "    </tr>\n",
       "    <tr>\n",
       "      <th>area</th>\n",
       "      <td>2048</td>\n",
       "      <td>2048</td>\n",
       "      <td>2048</td>\n",
       "      <td>2048</td>\n",
       "      <td>2048</td>\n",
       "      <td>2048</td>\n",
       "      <td>2048</td>\n",
       "      <td>2048</td>\n",
       "    </tr>\n",
       "    <tr>\n",
       "      <th>volume</th>\n",
       "      <td>8192</td>\n",
       "      <td>8192</td>\n",
       "      <td>8192</td>\n",
       "      <td>8192</td>\n",
       "      <td>8192</td>\n",
       "      <td>8192</td>\n",
       "      <td>8192</td>\n",
       "      <td>8192</td>\n",
       "    </tr>\n",
       "  </tbody>\n",
       "</table>\n",
       "</div>"
      ],
      "text/plain": [
       "               0       1       2       3        4         5        6         7\n",
       "Source    [0, 2]  [4, 6]  [1, 3]  [5, 7]  [8, 10]  [12, 14]  [9, 11]  [13, 15]\n",
       "Reciever  [1, 3]  [5, 7]  [0, 2]  [4, 6]  [9, 11]  [13, 15]  [8, 10]  [12, 14]\n",
       "length         4       4       4       4        4         4        4         4\n",
       "area        2048    2048    2048    2048     2048      2048     2048      2048\n",
       "volume      8192    8192    8192    8192     8192      8192     8192      8192"
      ]
     },
     "execution_count": 16,
     "metadata": {},
     "output_type": "execute_result"
    }
   ],
   "source": [
    "Mat_B"
   ]
  },
  {
   "cell_type": "code",
   "execution_count": 17,
   "metadata": {},
   "outputs": [
    {
     "data": {
      "text/plain": [
       "[5, 7]"
      ]
     },
     "execution_count": 17,
     "metadata": {},
     "output_type": "execute_result"
    }
   ],
   "source": [
    "Mat_B[1].loc['Reciever']"
   ]
  },
  {
   "cell_type": "markdown",
   "metadata": {},
   "source": [
    "# get cycles"
   ]
  },
  {
   "cell_type": "code",
   "execution_count": 18,
   "metadata": {},
   "outputs": [],
   "source": [
    "def add_ring(Ring_Mat, members, area):\n",
    "    global P\n",
    "    ring = np.zeros(P,dtype='int32')\n",
    "    for m in members:\n",
    "        ring[m] = 1\n",
    "    ring = tuple(ring)\n",
    "    Ring_Mat[ring] = area\n",
    "        "
   ]
  },
  {
   "cell_type": "code",
   "execution_count": 19,
   "metadata": {},
   "outputs": [],
   "source": [
    "def MergeRings(Frame):\n",
    "    rings = {}\n",
    "    col = 0\n",
    "    for s in Frame.loc['Source']:\n",
    "        if len(Frame[col].loc['Reciever']) > 0:\n",
    "            if len(s) == 1:    # single source\n",
    "                add_ring(rings, s+Frame[col].loc['Reciever'], Frame[col].loc['area'])\n",
    "            elif len(s) > 1:\n",
    "                for i in s:\n",
    "                    \n",
    "            \n",
    "        col += 1\n",
    "        \n",
    "    return rings"
   ]
  },
  {
   "cell_type": "code",
   "execution_count": 20,
   "metadata": {},
   "outputs": [],
   "source": [
    "Rings_A = (MergeRings(Mat_A))\n",
    "R_A = []\n",
    "for (r,a) in Rings_A.items():\n",
    "    R_A.append(np.array(r)*a)"
   ]
  },
  {
   "cell_type": "code",
   "execution_count": 21,
   "metadata": {},
   "outputs": [
    {
     "data": {
      "image/png": "[encoded data removed]",
      "text/plain": [
       "<matplotlib.figure.Figure at 0x267a85d8198>"
      ]
     },
     "metadata": {},
     "output_type": "display_data"
    }
   ],
   "source": [
    "Draw_mat(np.array(R_A),title='')"
   ]
  },
  {
   "cell_type": "code",
   "execution_count": 22,
   "metadata": {},
   "outputs": [],
   "source": [
    "Rings_B = (MergeRings(Mat_B))\n",
    "R_B = []\n",
    "for (r,a) in Rings_B.items():\n",
    "    R_B.append(np.array(r)*a)"
   ]
  },
  {
   "cell_type": "code",
   "execution_count": 27,
   "metadata": {},
   "outputs": [],
   "source": [
    "row = 0\n",
    "R_B = np.zeros([8,P],dtype='int32')\n",
    "for j in [\n",
    "    [0,1],[2,3],[4,5],[6,7],\n",
    "    [8,9],[10,11],[12,13],[14,15]\n",
    "]:\n",
    "    for i in j:\n",
    "        R_B[row][i] = 1\n",
    "        \n",
    "    row += 1"
   ]
  },
  {
   "cell_type": "code",
   "execution_count": 29,
   "metadata": {},
   "outputs": [
    {
     "data": {
      "image/png": "[encoded data removed]",
      "text/plain": [
       "<matplotlib.figure.Figure at 0x267a854e358>"
      ]
     },
     "metadata": {},
     "output_type": "display_data"
    }
   ],
   "source": [
    "Draw_mat(np.array(R_B),title='')"
   ]
  },
  {
   "cell_type": "code",
   "execution_count": null,
   "metadata": {},
   "outputs": [],
   "source": []
  }
 ],
 "metadata": {
  "kernelspec": {
   "display_name": "Python 3",
   "language": "python",
   "name": "python3"
  },
  "language_info": {
   "codemirror_mode": {
    "name": "ipython",
    "version": 3
   },
   "file_extension": ".py",
   "mimetype": "text/x-python",
   "name": "python",
   "nbconvert_exporter": "python",
   "pygments_lexer": "ipython3",
   "version": "3.6.3"
  }
 },
 "nbformat": 4,
 "nbformat_minor": 2
}
