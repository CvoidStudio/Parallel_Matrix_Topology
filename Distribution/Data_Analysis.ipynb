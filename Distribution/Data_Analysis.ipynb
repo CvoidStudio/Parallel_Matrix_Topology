{
 "cells": [
  {
   "cell_type": "code",
   "execution_count": 1,
   "metadata": {},
   "outputs": [],
   "source": [
    "import numpy as np\n",
    "from copy import copy\n",
    "import csv"
   ]
  },
  {
   "cell_type": "code",
   "execution_count": 4,
   "metadata": {},
   "outputs": [],
   "source": [
    "def get_Data_fromfile(filepath):\n",
    "    F = open(filepath,'r')\n",
    "    CF = csv.reader(F)\n",
    "    Data = []\n",
    "    for line in CF:\n",
    "        Data.append(list((float)(ele) for ele in line))\n",
    "    \n",
    "    F.close()\n",
    "    return Data"
   ]
  },
  {
   "cell_type": "code",
   "execution_count": 36,
   "metadata": {},
   "outputs": [],
   "source": [
    "def generate_file_list(_P,topo_list, alg_list, opt_list = ['','_A']):\n",
    "    namelist = []\n",
    "    for t in topo_list:\n",
    "        for a in alg_list:\n",
    "            for o in opt_list:\n",
    "                namelist.append(('%s_P%i_%s%s.csv'%(t,_P,a,o),(t,a,o)))\n",
    "                \n",
    "    return namelist"
   ]
  },
  {
   "cell_type": "code",
   "execution_count": 37,
   "metadata": {},
   "outputs": [],
   "source": [
    "P32_topo = [\n",
    "'32k2ring','32k3','32k3wheel','32k3grid','32k4','32k4cc','32k4torus'\n",
    "]\n",
    "P32_alg = [\n",
    "'Fox442','Fox481'\n",
    "]\n",
    "P32 = 32"
   ]
  },
  {
   "cell_type": "code",
   "execution_count": 38,
   "metadata": {},
   "outputs": [],
   "source": [
    "P32List = generate_file_list(P32,P32_topo,P32_alg)"
   ]
  },
  {
   "cell_type": "code",
   "execution_count": 39,
   "metadata": {},
   "outputs": [
    {
     "data": {
      "text/plain": [
       "[('32k2ring_P32_Fox442.csv', ('32k2ring', 'Fox442', '')),\n",
       " ('32k2ring_P32_Fox442_A.csv', ('32k2ring', 'Fox442', '_A')),\n",
       " ('32k2ring_P32_Fox481.csv', ('32k2ring', 'Fox481', '')),\n",
       " ('32k2ring_P32_Fox481_A.csv', ('32k2ring', 'Fox481', '_A')),\n",
       " ('32k3_P32_Fox442.csv', ('32k3', 'Fox442', '')),\n",
       " ('32k3_P32_Fox442_A.csv', ('32k3', 'Fox442', '_A')),\n",
       " ('32k3_P32_Fox481.csv', ('32k3', 'Fox481', '')),\n",
       " ('32k3_P32_Fox481_A.csv', ('32k3', 'Fox481', '_A')),\n",
       " ('32k3wheel_P32_Fox442.csv', ('32k3wheel', 'Fox442', '')),\n",
       " ('32k3wheel_P32_Fox442_A.csv', ('32k3wheel', 'Fox442', '_A')),\n",
       " ('32k3wheel_P32_Fox481.csv', ('32k3wheel', 'Fox481', '')),\n",
       " ('32k3wheel_P32_Fox481_A.csv', ('32k3wheel', 'Fox481', '_A')),\n",
       " ('32k3grid_P32_Fox442.csv', ('32k3grid', 'Fox442', '')),\n",
       " ('32k3grid_P32_Fox442_A.csv', ('32k3grid', 'Fox442', '_A')),\n",
       " ('32k3grid_P32_Fox481.csv', ('32k3grid', 'Fox481', '')),\n",
       " ('32k3grid_P32_Fox481_A.csv', ('32k3grid', 'Fox481', '_A')),\n",
       " ('32k4_P32_Fox442.csv', ('32k4', 'Fox442', '')),\n",
       " ('32k4_P32_Fox442_A.csv', ('32k4', 'Fox442', '_A')),\n",
       " ('32k4_P32_Fox481.csv', ('32k4', 'Fox481', '')),\n",
       " ('32k4_P32_Fox481_A.csv', ('32k4', 'Fox481', '_A')),\n",
       " ('32k4cc_P32_Fox442.csv', ('32k4cc', 'Fox442', '')),\n",
       " ('32k4cc_P32_Fox442_A.csv', ('32k4cc', 'Fox442', '_A')),\n",
       " ('32k4cc_P32_Fox481.csv', ('32k4cc', 'Fox481', '')),\n",
       " ('32k4cc_P32_Fox481_A.csv', ('32k4cc', 'Fox481', '_A')),\n",
       " ('32k4torus_P32_Fox442.csv', ('32k4torus', 'Fox442', '')),\n",
       " ('32k4torus_P32_Fox442_A.csv', ('32k4torus', 'Fox442', '_A')),\n",
       " ('32k4torus_P32_Fox481.csv', ('32k4torus', 'Fox481', '')),\n",
       " ('32k4torus_P32_Fox481_A.csv', ('32k4torus', 'Fox481', '_A'))]"
      ]
     },
     "execution_count": 39,
     "metadata": {},
     "output_type": "execute_result"
    }
   ],
   "source": [
    "P32List"
   ]
  },
  {
   "cell_type": "code",
   "execution_count": 40,
   "metadata": {},
   "outputs": [],
   "source": [
    "def get_Statistics(dataline):\n",
    "    stat = {}\n",
    "    stat['min'] = np.min(dataline)\n",
    "    stat['max'] = np.max(dataline)\n",
    "    stat['Q1'] = np.percentile(dataline,25)\n",
    "    stat['median'] = np.median(dataline)\n",
    "    stat['Q3'] = np.percentile(dataline,75)\n",
    "    stat['stdev'] = np.std(dataline, ddof=1)\n",
    "    stat['mean'] = np.mean(dataline)\n",
    "    \n",
    "    return stat"
   ]
  },
  {
   "cell_type": "code",
   "execution_count": 47,
   "metadata": {},
   "outputs": [],
   "source": [
    "data1 = {}\n",
    "for l in P32List:\n",
    "    data1[l[1]] = get_Data_fromfile('Raw/%s'%(l[0]))[0]"
   ]
  },
  {
   "cell_type": "code",
   "execution_count": 67,
   "metadata": {},
   "outputs": [],
   "source": [
    "import pandas as pd\n",
    "from pandas.plotting import table\n",
    "import matplotlib.pyplot as plt"
   ]
  },
  {
   "cell_type": "code",
   "execution_count": 85,
   "metadata": {},
   "outputs": [],
   "source": [
    "ALG = 'Fox481'\n",
    "OPT = ''\n",
    "Table1 = pd.DataFrame(columns = ['min','Q1','med','Q3','max','mean','std'])\n",
    "for T in P32_topo:\n",
    "    D = data1[(T,ALG,OPT)]\n",
    "    STAT = get_Statistics(D)\n",
    "    Table1.loc[T] = [STAT['min'],STAT['Q1'],STAT['median'],STAT['Q3'],STAT['max'],\n",
    "                     STAT['mean'],STAT['stdev']]\n",
    "\n"
   ]
  },
  {
   "cell_type": "code",
   "execution_count": 86,
   "metadata": {},
   "outputs": [
    {
     "data": {
      "text/html": [
       "<div>\n",
       "<style scoped>\n",
       "    .dataframe tbody tr th:only-of-type {\n",
       "        vertical-align: middle;\n",
       "    }\n",
       "\n",
       "    .dataframe tbody tr th {\n",
       "        vertical-align: top;\n",
       "    }\n",
       "\n",
       "    .dataframe thead th {\n",
       "        text-align: right;\n",
       "    }\n",
       "</style>\n",
       "<table border=\"1\" class=\"dataframe\">\n",
       "  <thead>\n",
       "    <tr style=\"text-align: right;\">\n",
       "      <th></th>\n",
       "      <th>min</th>\n",
       "      <th>Q1</th>\n",
       "      <th>med</th>\n",
       "      <th>Q3</th>\n",
       "      <th>max</th>\n",
       "      <th>mean</th>\n",
       "      <th>std</th>\n",
       "    </tr>\n",
       "  </thead>\n",
       "  <tbody>\n",
       "    <tr>\n",
       "      <th>32k2ring</th>\n",
       "      <td>2.8936</td>\n",
       "      <td>4.0461</td>\n",
       "      <td>4.31910</td>\n",
       "      <td>4.5816</td>\n",
       "      <td>5.5993</td>\n",
       "      <td>4.309731</td>\n",
       "      <td>0.392913</td>\n",
       "    </tr>\n",
       "    <tr>\n",
       "      <th>32k3</th>\n",
       "      <td>1.2801</td>\n",
       "      <td>1.4894</td>\n",
       "      <td>1.54260</td>\n",
       "      <td>1.6028</td>\n",
       "      <td>1.8865</td>\n",
       "      <td>1.548811</td>\n",
       "      <td>0.086360</td>\n",
       "    </tr>\n",
       "    <tr>\n",
       "      <th>32k3wheel</th>\n",
       "      <td>1.8121</td>\n",
       "      <td>2.3191</td>\n",
       "      <td>2.46985</td>\n",
       "      <td>2.6383</td>\n",
       "      <td>3.7234</td>\n",
       "      <td>2.487657</td>\n",
       "      <td>0.239206</td>\n",
       "    </tr>\n",
       "    <tr>\n",
       "      <th>32k3grid</th>\n",
       "      <td>1.7589</td>\n",
       "      <td>2.2482</td>\n",
       "      <td>2.39010</td>\n",
       "      <td>2.5390</td>\n",
       "      <td>3.3404</td>\n",
       "      <td>2.402273</td>\n",
       "      <td>0.219850</td>\n",
       "    </tr>\n",
       "    <tr>\n",
       "      <th>32k4</th>\n",
       "      <td>1.1383</td>\n",
       "      <td>1.2447</td>\n",
       "      <td>1.27660</td>\n",
       "      <td>1.3121</td>\n",
       "      <td>1.5603</td>\n",
       "      <td>1.279691</td>\n",
       "      <td>0.052641</td>\n",
       "    </tr>\n",
       "    <tr>\n",
       "      <th>32k4cc</th>\n",
       "      <td>1.1915</td>\n",
       "      <td>1.3404</td>\n",
       "      <td>1.39010</td>\n",
       "      <td>1.4397</td>\n",
       "      <td>1.7695</td>\n",
       "      <td>1.394063</td>\n",
       "      <td>0.073780</td>\n",
       "    </tr>\n",
       "    <tr>\n",
       "      <th>32k4torus</th>\n",
       "      <td>1.3617</td>\n",
       "      <td>1.6844</td>\n",
       "      <td>1.77300</td>\n",
       "      <td>1.8723</td>\n",
       "      <td>2.5213</td>\n",
       "      <td>1.783954</td>\n",
       "      <td>0.141232</td>\n",
       "    </tr>\n",
       "  </tbody>\n",
       "</table>\n",
       "</div>"
      ],
      "text/plain": [
       "              min      Q1      med      Q3     max      mean       std\n",
       "32k2ring   2.8936  4.0461  4.31910  4.5816  5.5993  4.309731  0.392913\n",
       "32k3       1.2801  1.4894  1.54260  1.6028  1.8865  1.548811  0.086360\n",
       "32k3wheel  1.8121  2.3191  2.46985  2.6383  3.7234  2.487657  0.239206\n",
       "32k3grid   1.7589  2.2482  2.39010  2.5390  3.3404  2.402273  0.219850\n",
       "32k4       1.1383  1.2447  1.27660  1.3121  1.5603  1.279691  0.052641\n",
       "32k4cc     1.1915  1.3404  1.39010  1.4397  1.7695  1.394063  0.073780\n",
       "32k4torus  1.3617  1.6844  1.77300  1.8723  2.5213  1.783954  0.141232"
      ]
     },
     "execution_count": 86,
     "metadata": {},
     "output_type": "execute_result"
    }
   ],
   "source": [
    "Table1"
   ]
  },
  {
   "cell_type": "code",
   "execution_count": 80,
   "metadata": {},
   "outputs": [
    {
     "name": "stdout",
     "output_type": "stream",
     "text": [
      "TABLE_P32_Fox442\n"
     ]
    }
   ],
   "source": [
    "print('TABLE_P32_%s_'%(ALG))"
   ]
  },
  {
   "cell_type": "code",
   "execution_count": null,
   "metadata": {},
   "outputs": [],
   "source": []
  }
 ],
 "metadata": {
  "kernelspec": {
   "display_name": "Python 3",
   "language": "python",
   "name": "python3"
  },
  "language_info": {
   "codemirror_mode": {
    "name": "ipython",
    "version": 3
   },
   "file_extension": ".py",
   "mimetype": "text/x-python",
   "name": "python",
   "nbconvert_exporter": "python",
   "pygments_lexer": "ipython3",
   "version": "3.6.3"
  }
 },
 "nbformat": 4,
 "nbformat_minor": 2
}
