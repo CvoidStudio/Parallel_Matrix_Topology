{
 "cells": [
  {
   "cell_type": "code",
   "execution_count": 1,
   "metadata": {},
   "outputs": [],
   "source": [
    "import numpy as np\n",
    "import pandas as pd\n",
    "from matplotlib import pyplot as plt\n",
    "import csv\n",
    "from copy import copy"
   ]
  },
  {
   "cell_type": "code",
   "execution_count": 2,
   "metadata": {},
   "outputs": [],
   "source": [
    "P = 16"
   ]
  },
  {
   "cell_type": "code",
   "execution_count": 3,
   "metadata": {},
   "outputs": [],
   "source": [
    "def Get_ADJ(file_path):\n",
    "    F = pd.read_csv(file_path, delimiter = ' ', header = None)\n",
    "    return (F.values).astype('float32')\n",
    "\n",
    "def Get_Static_Table(file_path):\n",
    "    F = open(file_path,'r')\n",
    "    FC = csv.reader(F)\n",
    "    Table = {}\n",
    "    \n",
    "    for line in FC:\n",
    "        l,r = line[0].split('|')\n",
    "        seq = []\n",
    "        for ele in line[2:]:\n",
    "            seq.append((int)(ele))\n",
    "            \n",
    "        Table[((int)(l),(int)(r))] = seq\n",
    "    \n",
    "    F.close()\n",
    "    \n",
    "    return Table"
   ]
  },
  {
   "cell_type": "code",
   "execution_count": 4,
   "metadata": {},
   "outputs": [],
   "source": [
    "Target_Topology = '16k3'\n",
    "\n",
    "Adj = Get_ADJ('../Simulator/topology/%s.adj'%Target_Topology)\n",
    "SRTable = Get_Static_Table('../Simulator/topology/%s_Static.srt'%Target_Topology)"
   ]
  },
  {
   "cell_type": "code",
   "execution_count": 5,
   "metadata": {},
   "outputs": [],
   "source": [
    "I_P = np.identity(P)"
   ]
  },
  {
   "cell_type": "code",
   "execution_count": 6,
   "metadata": {},
   "outputs": [],
   "source": [
    "def smoothstep(x):\n",
    "    R,C = x.shape\n",
    "    for r in range(R):\n",
    "        for c in range(C):\n",
    "            if x[c][r] > 1:\n",
    "                x[c][r] = 1\n",
    "                \n",
    "def Generate_RouteTree(A_now, D_now):\n",
    "    global I_P\n",
    "    D_next = np.matmul(I_P+Adj,D_now)\n",
    "    smoothstep(D_next)\n",
    "    return A_now, D_next"
   ]
  },
  {
   "cell_type": "code",
   "execution_count": 7,
   "metadata": {},
   "outputs": [],
   "source": [
    "A = copy(Adj)\n",
    "step = 0\n",
    "D = np.identity(P)\n",
    "Routines = []\n",
    "DIST_M = np.zeros([P,P],dtype='int16')\n",
    "while (np.min(D) == 0):\n",
    "    A,D_N = Generate_RouteTree(A,D)\n",
    "    Routines.append(np.transpose(D_N - D))\n",
    "    step += 1\n",
    "    DIST_M += step*(D_N - D).astype('int16')\n",
    "    D = D_N"
   ]
  },
  {
   "cell_type": "code",
   "execution_count": 8,
   "metadata": {},
   "outputs": [],
   "source": [
    "def get_BAMMA(filepath, rank_map = None):\n",
    "    global P\n",
    "    if rank_map == None:\n",
    "        rank_map = {i:i for i in range(P)}\n",
    "    \n",
    "    Algorithm = {}\n",
    "    F = open(filepath,'r')\n",
    "    FC = csv.reader(F)\n",
    "    for line in FC:\n",
    "        if line[0][0] == '@':         # @ node\n",
    "            rank = rank_map[(int)(line[0][1:])]\n",
    "            Algorithm[rank] = []   # add node\n",
    "            i = 1\n",
    "            while i < len(line):\n",
    "                if line[i] == 'C': # Compute\n",
    "                    Vol = (int)(line[i+1])*\\\n",
    "                          (int)(line[i+2])*\\\n",
    "                          (int)(line[i+3])\n",
    "                    Algorithm[rank].append(('C',Vol))\n",
    "                    i += 3\n",
    "                elif line[i] == 'S': # Compute\n",
    "                    Area = (int)(line[i+2])*(int)(line[i+3])\n",
    "                    Algorithm[rank].append(('S',rank_map[(int)(line[i+1])],Area))\n",
    "                    i += 3\n",
    "                elif line[i] == 'R': # Compute\n",
    "                    Area = (int)(line[i+2])*(int)(line[i+3])\n",
    "                    Algorithm[rank].append(('R',rank_map[(int)(line[i+1])],Area))\n",
    "                    i += 3\n",
    "                    \n",
    "                    \n",
    "                i += 1\n",
    "    F.close()            \n",
    "    return Algorithm"
   ]
  },
  {
   "cell_type": "code",
   "execution_count": 9,
   "metadata": {},
   "outputs": [],
   "source": [
    "def Extract_cycles(filepath, rank_map = None):\n",
    "    global P\n",
    "    \n",
    "    if rank_map == None:\n",
    "        rank_map = {i:i for i in range(P)}\n",
    "        \n",
    "    Ideal = np.zeros([P,P],dtype='int16')\n",
    "    F = open(filepath,'r')\n",
    "    FC = csv.reader(F)\n",
    "    for line in FC:\n",
    "        At = rank_map[(int)(line[0][1:])]\n",
    "        ind = 1\n",
    "        for ele in line[1:]:\n",
    "            if ele == 'S':\n",
    "                Ideal[At][rank_map[(int)(line[ind+1])]] += 1\n",
    "                Ideal[rank_map[(int)(line[ind+1])]][At] += 1\n",
    "            ind += 1\n",
    "            \n",
    "    return Ideal"
   ]
  },
  {
   "cell_type": "code",
   "execution_count": 10,
   "metadata": {},
   "outputs": [],
   "source": [
    "def switch_nodes(M,_Map = None):\n",
    "    if not _Map:\n",
    "        _Map = {i:i for i in range(M.shape[0])}\n",
    "    Res = copy(M)\n",
    "    for src,to in _Map.items():\n",
    "        Res[to,:] = M[src,:]\n",
    "    Res1 = copy(Res)\n",
    "    for src,to in _Map.items():\n",
    "        Res1[:,to] = Res[:,src]\n",
    "    return Res1"
   ]
  },
  {
   "cell_type": "code",
   "execution_count": 11,
   "metadata": {},
   "outputs": [],
   "source": [
    "def Get_Exchange(Map):\n",
    "    E_M = np.zeros([len(Map),len(Map)])\n",
    "    for i in range(len(Map)):\n",
    "        E_M[i][Map[i]] = 1\n",
    "        E_M[Map[i]][i] = 1\n",
    "    return E_M\n",
    "\n",
    "def get_OptMap(Topo_M,Alg_M):\n",
    "    P_ = Topo_M.shape[0]\n",
    "    E = np.identity(P_)\n",
    "    \n",
    "    eigval_T,eigvec_T = np.linalg.eig(Topo_M)\n",
    "    eigval_A,eigvec_A = np.linalg.eig(Alg_M)\n",
    "    \n",
    "    weight_T = np.sqrt(np.abs(eigval_T))*np.transpose(eigvec_T)\n",
    "    weight_A = np.sqrt(np.abs(eigval_A))*np.transpose(eigvec_A)\n",
    "    \n",
    "    DDM = np.zeros([P_,P_])\n",
    "    for i in range(P_):\n",
    "        for j in range(P_):\n",
    "            DDM[i,j] = np.linalg.norm(weight_T[:,i]-weight_A[:,j])\n",
    "            \n",
    "    \n",
    "    Map = {i:i for i in range(P_)}\n",
    "    Loss = 1\n",
    "    return Map,Loss"
   ]
  },
  {
   "cell_type": "code",
   "execution_count": 12,
   "metadata": {},
   "outputs": [],
   "source": [
    "def Route_On_Static(Sender,Reciever,RTable,status,area):\n",
    "    Act_to_Add = {p:[] for p in range(len(status))}\n",
    "    Route = RTable[(Sender,Reciever)]\n",
    "    \n",
    "    # Sequencial\n",
    "    prev = Sender\n",
    "    for p in Route:\n",
    "        # Waiting Time\n",
    "        # update status\n",
    "        if status[p] > status[prev]:\n",
    "            Act_to_Add[prev].append(('W',status[p]-status[prev]))\n",
    "            status[prev] = status[p]\n",
    "        elif status[p] < status[prev]:\n",
    "            Act_to_Add[p].append(('W',status[prev]-status[p]))\n",
    "            status[p] = status[prev]\n",
    "        \n",
    "        # Comm Time\n",
    "        Act_to_Add[prev].append(('S',area))\n",
    "        Act_to_Add[p].append(('R',area))\n",
    "        status[p] += area\n",
    "        status[prev] += area\n",
    "        \n",
    "        # next pair\n",
    "        prev = copy(p)\n",
    "\n",
    "    return Act_to_Add"
   ]
  },
  {
   "cell_type": "code",
   "execution_count": 13,
   "metadata": {},
   "outputs": [],
   "source": [
    "def Real_Routine(Raw_Route,Adj_M):\n",
    "    # get num of actions vs each node\n",
    "    Total_P = len(Raw_Route)\n",
    "\n",
    "    lengths = np.zeros(Total_P,dtype='int32')\n",
    "\n",
    "    for r,line in Raw_Route.items():\n",
    "        lengths[r] = len(line)\n",
    "\n",
    "    # Result\n",
    "    Routine = {i:[] for i in range(Total_P)}\n",
    "    # Nodes Status\n",
    "    # 0:idle >0:length of queue\n",
    "    Status = np.zeros(Total_P,dtype='int64')\n",
    "    \n",
    "        \n",
    "    # BFS\n",
    "    p = 0\n",
    "    process = np.zeros(Total_P,dtype='int32')\n",
    "    while True:\n",
    "        # Finished\n",
    "        if np.max(np.abs(lengths-process)) == 0:\n",
    "            return Routine\n",
    "        # finished nodes\n",
    "        if lengths[p] == process[p]:\n",
    "            p = (p+1)%Total_P\n",
    "            continue\n",
    "        \n",
    "        Action = Raw_Route[p][process[p]]\n",
    "        \n",
    "        # overhead\n",
    "        global SRTable\n",
    "        Status -= np.min(Status)  # processing\n",
    "\n",
    "        if Action[0] == 'C':      # Computation\n",
    "            Routine[p].append(Action)\n",
    "            # add queue\n",
    "            Status[p] += Action[-1]\n",
    "        elif Action[0] == 'S':    # Send\n",
    "            Acts = Route_On_Static(p,Action[1],SRTable,Status,Action[-1])\n",
    "\n",
    "            for pp,act in Acts.items():\n",
    "                Routine[pp] += act\n",
    "            \n",
    "        #elif Action[0] == 'R':    # Recieve\n",
    "        #    pass # done by sender\n",
    "            \n",
    "        \n",
    "        \n",
    "        # Update\n",
    "        process[p] += 1\n",
    "        p = (p+1)%Total_P\n",
    "   \n",
    "    return Routine"
   ]
  },
  {
   "cell_type": "code",
   "execution_count": 14,
   "metadata": {},
   "outputs": [],
   "source": [
    "def get_Longest(Routes):\n",
    "    Total_P = len(Routes)\n",
    "    x_max = 0\n",
    "    for p in range(Total_P):\n",
    "        m_xmax = 0\n",
    "        for act in Routes[p]:\n",
    "            m_xmax += act[1]\n",
    "        if m_xmax > x_max:\n",
    "            x_max = m_xmax\n",
    "    return x_max"
   ]
  },
  {
   "cell_type": "code",
   "execution_count": 15,
   "metadata": {
    "scrolled": true
   },
   "outputs": [],
   "source": [
    "Data = []\n",
    "TT = 0\n",
    "for T in range(100):\n",
    "    rand_series = np.random.permutation(np.arange(P))\n",
    "    random_map = {i:rand_series[i] for i in range(P)}\n",
    "    #random_map = Shuffle_with_Center(Center,Leaf)\n",
    "    #New_M = switch_nodes(Unmap_Routine,random_map)\n",
    "    #New_M = New_M/np.max(New_M)\n",
    "    #Ser = Get_Saturability_Seq(Routint_Tensor,New_M,random_map)\n",
    "    T_Routine = get_BAMMA('../Simulator//BAMMA/P16_SUMMA.csv',rank_map=random_map)\n",
    "    m_time = get_Longest(Real_Routine(T_Routine,Adj))\n",
    "    Data.append(m_time)\n",
    "    if T > TT + 99:\n",
    "        print(T)\n",
    "        TT = T"
   ]
  },
  {
   "cell_type": "markdown",
   "metadata": {},
   "source": [
    "# With Optimization"
   ]
  },
  {
   "cell_type": "code",
   "execution_count": 16,
   "metadata": {},
   "outputs": [],
   "source": [
    "def get_RoutineTensor(file_path):\n",
    "    global P\n",
    "    Tensor = np.zeros([P,P,P],dtype = 'int16')\n",
    "    F = open(file_path,'r')\n",
    "    FC = csv.reader(F)\n",
    "    Table = {}\n",
    "    \n",
    "    for line in FC:\n",
    "        l,r = line[0].split('|')\n",
    "        ind = 1\n",
    "        for ele in line[2:]:\n",
    "            Tensor[(int)(l)][(int)(r)][(int)(ele)] = ind\n",
    "            ind += 1\n",
    "    \n",
    "    F.close()\n",
    "    \n",
    "    return Tensor"
   ]
  },
  {
   "cell_type": "code",
   "execution_count": 17,
   "metadata": {},
   "outputs": [],
   "source": [
    "Unmap_Routine = Extract_cycles('../Simulator/BAMMA/P16_Fox441.csv')"
   ]
  },
  {
   "cell_type": "code",
   "execution_count": 18,
   "metadata": {},
   "outputs": [],
   "source": [
    "Routint_Tensor = get_RoutineTensor('../Simulator/topology/%s_Static.srt'%Target_Topology)"
   ]
  },
  {
   "cell_type": "code",
   "execution_count": 19,
   "metadata": {},
   "outputs": [],
   "source": [
    "def Get_Saturability_Seq(Route_Tensor, Comm_M, MAP):\n",
    "    global P\n",
    "    Ser = np.zeros(P,dtype='int16')\n",
    "    i = 0\n",
    "    for z in range(P):\n",
    "        Ser[MAP[i]] = np.sum(Route_Tensor[:,:,z]*Comm_M)\n",
    "        i += 1\n",
    "    return Ser"
   ]
  },
  {
   "cell_type": "code",
   "execution_count": 20,
   "metadata": {},
   "outputs": [],
   "source": [
    "def Annealing_Energy(Ser):\n",
    "    return np.sum(np.square(Ser))\n",
    "\n",
    "def accumulate_map(map1,rot_map):\n",
    "    new_map = copy(map1)\n",
    "    for ind,val in rot_map.items():\n",
    "        new_map[ind] = copy(map1[val])\n",
    "    return new_map\n",
    "\n",
    "def get_rotmap_N(src,num=None):\n",
    "    if num == None:\n",
    "        num = len(src)\n",
    "    sub_src = np.random.choice(src,size=num,replace=False)\n",
    "    sub_tar = np.random.permutation(sub_src)\n",
    "    res = {}\n",
    "    for i in range(num):\n",
    "        res[sub_src[i]] = sub_tar[i]\n",
    "        \n",
    "    return res\n",
    "\n",
    "def sigmoid(x,Lambda=1):\n",
    "    return 2.0/(1.0 + np.exp(-Lambda*x))"
   ]
  },
  {
   "cell_type": "code",
   "execution_count": 21,
   "metadata": {},
   "outputs": [
    {
     "name": "stdout",
     "output_type": "stream",
     "text": [
      "20\n",
      "40\n",
      "60\n",
      "80\n",
      "100\n",
      "120\n",
      "140\n",
      "160\n",
      "180\n",
      "200\n",
      "220\n",
      "240\n",
      "260\n",
      "280\n",
      "300\n",
      "320\n",
      "340\n",
      "360\n",
      "380\n",
      "400\n",
      "420\n",
      "440\n",
      "460\n",
      "480\n",
      "500\n",
      "520\n",
      "540\n",
      "560\n",
      "580\n",
      "600\n",
      "620\n",
      "640\n",
      "660\n",
      "680\n",
      "700\n",
      "720\n",
      "740\n",
      "760\n",
      "780\n",
      "800\n",
      "820\n",
      "840\n",
      "860\n",
      "880\n",
      "900\n",
      "920\n",
      "940\n",
      "960\n",
      "980\n",
      "1000\n"
     ]
    }
   ],
   "source": [
    "\n",
    "Data = []\n",
    "ST = 0\n",
    "for it in range(1000):\n",
    "    min_Energy = 1e8\n",
    "    TT = 0\n",
    "\n",
    "    #search_dist = 0.1\n",
    "\n",
    "    rand_series = np.random.permutation(np.arange(P))\n",
    "    map_n = {i:rand_series[i] for i in range(P)}\n",
    "    #Map_n = Get_Exchange(rand_map).astype('float32')\n",
    "    step = 0\n",
    "    while TT < 1000:\n",
    "        # Get Random Map\n",
    "        mov_map = get_rotmap_N(range(P),4)\n",
    "        new_map = accumulate_map(map_n,mov_map)\n",
    "\n",
    "        New_M = switch_nodes(Unmap_Routine,new_map)\n",
    "        New_M = New_M/np.max(New_M)\n",
    "\n",
    "        # Evaluate Energy\n",
    "        Ser_Z = Get_Saturability_Seq(Routint_Tensor,New_M,new_map)\n",
    "        En = Annealing_Energy(Ser_Z.astype('float32'))\n",
    "        prob = sigmoid((float)(min_Energy-En)/min_Energy,1)\n",
    "        if 0.9999 < prob:\n",
    "            min_Energy = En\n",
    "            map_n = new_map\n",
    "            TT -= 1\n",
    "\n",
    "\n",
    "        TT += 1\n",
    "        step += 1\n",
    "    ST += 1\n",
    "    if ST%20 == 0:\n",
    "        print(ST)\n",
    "    T_Routine = get_BAMMA('../Simulator/BAMMA/P16_Fox441.csv',rank_map=map_n)\n",
    "    m_time = get_Longest(Real_Routine(T_Routine,Adj))\n",
    "    Data.append(m_time)"
   ]
  },
  {
   "cell_type": "markdown",
   "metadata": {},
   "source": [
    "# Distribution"
   ]
  },
  {
   "cell_type": "code",
   "execution_count": 25,
   "metadata": {},
   "outputs": [],
   "source": [
    "Height,Left = np.histogram(Data,bins=np.arange(min(Data),max(Data),30000))"
   ]
  },
  {
   "cell_type": "code",
   "execution_count": 26,
   "metadata": {},
   "outputs": [
    {
     "data": {
      "text/plain": [
       "array([1257472, 1287472, 1317472, 1347472, 1377472, 1407472, 1437472,\n",
       "       1467472, 1497472, 1527472], dtype=int64)"
      ]
     },
     "execution_count": 26,
     "metadata": {},
     "output_type": "execute_result"
    }
   ],
   "source": [
    "Left"
   ]
  },
  {
   "cell_type": "code",
   "execution_count": 27,
   "metadata": {
    "scrolled": false
   },
   "outputs": [
    {
     "data": {
      "image/png": "[encoded data removed]",
      "text/plain": [
       "<Figure size 720x720 with 1 Axes>"
      ]
     },
     "metadata": {},
     "output_type": "display_data"
    }
   ],
   "source": [
    "Fig1 = plt.figure(figsize=[10,10])\n",
    "plt.bar(x=np.linspace(0,1,len(Height))*(max(Data)-min(Data)) + min(Data),\n",
    "        height=Height.astype('float32')/sum(Height),\n",
    "        width = 20000, align='center',color='r')\n",
    "plt.xticks(np.arange(min(Data),max(Data)+50000,50000))\n",
    "plt.title('%s | %s'%(Target_Topology,'P16_Fox441'))\n",
    "plt.savefig('fig/%s_%s.png'%(Target_Topology,'P16_Fox441'))\n",
    "plt.show()"
   ]
  },
  {
   "cell_type": "code",
   "execution_count": null,
   "metadata": {},
   "outputs": [],
   "source": []
  }
 ],
 "metadata": {
  "kernelspec": {
   "display_name": "Python 3",
   "language": "python",
   "name": "python3"
  },
  "language_info": {
   "codemirror_mode": {
    "name": "ipython",
    "version": 3
   },
   "file_extension": ".py",
   "mimetype": "text/x-python",
   "name": "python",
   "nbconvert_exporter": "python",
   "pygments_lexer": "ipython3",
   "version": "3.6.3"
  }
 },
 "nbformat": 4,
 "nbformat_minor": 2
}
