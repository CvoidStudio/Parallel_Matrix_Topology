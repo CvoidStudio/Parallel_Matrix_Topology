{
 "cells": [
  {
   "cell_type": "code",
   "execution_count": 72,
   "metadata": {},
   "outputs": [],
   "source": [
    "import numpy as np\n",
    "import pandas as pd"
   ]
  },
  {
   "cell_type": "code",
   "execution_count": 104,
   "metadata": {},
   "outputs": [],
   "source": [
    "P = 8\n",
    "N = 1024"
   ]
  },
  {
   "cell_type": "code",
   "execution_count": 74,
   "metadata": {},
   "outputs": [],
   "source": [
    "Steps = []\n",
    "for i in range(P):\n",
    "    Steps.append([\"@%i\"%i])"
   ]
  },
  {
   "cell_type": "code",
   "execution_count": 75,
   "metadata": {},
   "outputs": [],
   "source": [
    "def clear():\n",
    "    global Steps\n",
    "    Steps = []\n",
    "    for i in range(P):\n",
    "        Steps.append([\"@%i\"%i])"
   ]
  },
  {
   "cell_type": "code",
   "execution_count": 76,
   "metadata": {},
   "outputs": [],
   "source": [
    "def Write(name):\n",
    "    global Steps\n",
    "    F = open(name, 'w')\n",
    "    for grp in Steps:\n",
    "        line = (str)(' '.join(s for s in grp))\n",
    "        F.write(line)\n",
    "        F.write(' #\\n')\n",
    "\n",
    "    F.close()"
   ]
  },
  {
   "cell_type": "markdown",
   "metadata": {},
   "source": [
    "# PX_Comm"
   ]
  },
  {
   "cell_type": "code",
   "execution_count": 105,
   "metadata": {},
   "outputs": [],
   "source": [
    "clear()"
   ]
  },
  {
   "cell_type": "code",
   "execution_count": 106,
   "metadata": {},
   "outputs": [],
   "source": [
    "for s in Steps:\n",
    "    # Construct\n",
    "    s.append('1024 1024 1024')\n",
    "    s.append('0 0 0 0 |')\n",
    "    \n",
    "for i in range(P):\n",
    "    if i%2 == 0:\n",
    "        Steps[i].append('S %i A 0 1024 |'%((i+1)%P))\n",
    "        Steps[i].append('R %i A 0 1024 |'%((i+P-1)%P))\n",
    "    else:\n",
    "        Steps[i].append('R %i A 0 1024 |'%((i+P-1)%P))\n",
    "        Steps[i].append('S %i A 0 1024 |'%((i+1)%P))\n",
    "        \n",
    "            "
   ]
  },
  {
   "cell_type": "code",
   "execution_count": 107,
   "metadata": {},
   "outputs": [],
   "source": [
    "Write('P%i_Comm.comm'%(P))"
   ]
  },
  {
   "cell_type": "markdown",
   "metadata": {},
   "source": [
    "# PX_Comp"
   ]
  },
  {
   "cell_type": "code",
   "execution_count": 9,
   "metadata": {},
   "outputs": [],
   "source": [
    "clear()"
   ]
  },
  {
   "cell_type": "code",
   "execution_count": 10,
   "metadata": {},
   "outputs": [],
   "source": [
    "for s in Steps:\n",
    "    # Construct\n",
    "    s.append('1024 1024 1024')\n",
    "    s.append('0 0 0 0 |')\n",
    "    s.append('C 0 1024 0 1024 |')"
   ]
  },
  {
   "cell_type": "code",
   "execution_count": 11,
   "metadata": {},
   "outputs": [],
   "source": [
    "Write('P%i_Comp.comm'%(P))"
   ]
  },
  {
   "cell_type": "markdown",
   "metadata": {},
   "source": [
    "# PX_00 plan"
   ]
  },
  {
   "cell_type": "code",
   "execution_count": null,
   "metadata": {},
   "outputs": [],
   "source": [
    "clear()"
   ]
  },
  {
   "cell_type": "code",
   "execution_count": null,
   "metadata": {},
   "outputs": [],
   "source": [
    "# 00 plan\n",
    "i = 0\n",
    "Width = N/P\n",
    "for s in Steps:\n",
    "    # Construct\n",
    "    s.append('1024 %i 1024'%(Width))\n",
    "    s.append('%i 0 0 %i |'%(i*Width,i*Width))\n",
    "    \n",
    "    # Computation\n",
    "    s.append('C 0 %i 0 %i |'%(Width,Width))\n",
    "    \n",
    "    i += 1\n",
    "    "
   ]
  },
  {
   "cell_type": "code",
   "execution_count": null,
   "metadata": {},
   "outputs": [],
   "source": [
    "Pairs = 2\n",
    "while P/Pairs >= 1:\n",
    "    half = (int)(Pairs/2)\n",
    "    for i in range(half-1, P, Pairs):\n",
    "        Steps[i].append('Red t %i |'%(i+half))\n",
    "        Steps[i+half].append('Red f %i |'%(i))\n",
    "    Pairs *= 2"
   ]
  },
  {
   "cell_type": "code",
   "execution_count": null,
   "metadata": {},
   "outputs": [],
   "source": [
    "Write('P%i_00.comm'%(P))"
   ]
  },
  {
   "cell_type": "markdown",
   "metadata": {},
   "source": [
    "# PX_X3 plan"
   ]
  },
  {
   "cell_type": "code",
   "execution_count": 7,
   "metadata": {},
   "outputs": [],
   "source": [
    "clear()"
   ]
  },
  {
   "cell_type": "code",
   "execution_count": null,
   "metadata": {},
   "outputs": [],
   "source": []
  },
  {
   "cell_type": "code",
   "execution_count": null,
   "metadata": {},
   "outputs": [],
   "source": [
    "i = 0\n",
    "Width = N/P\n",
    "for s in Steps:\n",
    "    # Cube shape\n",
    "    cm = 256\n",
    "    cl = 256\n",
    "    cn = 256\n",
    "    \n",
    "    # Construct\n",
    "    s.append('%i %i %i'%(cm,cl,cn))\n",
    "    s.append('%i 0 0 %i |'%(i*Width,i*Width))\n",
    "    \n",
    "    # Computation\n",
    "    s.append('C 0 %i 0 %i |'%(cl,cl))\n",
    "    \n",
    "    i += 1\n",
    "    "
   ]
  }
 ],
 "metadata": {
  "kernelspec": {
   "display_name": "Python 3",
   "language": "python",
   "name": "python3"
  },
  "language_info": {
   "codemirror_mode": {
    "name": "ipython",
    "version": 3
   },
   "file_extension": ".py",
   "mimetype": "text/x-python",
   "name": "python",
   "nbconvert_exporter": "python",
   "pygments_lexer": "ipython3",
   "version": "3.6.3"
  }
 },
 "nbformat": 4,
 "nbformat_minor": 2
}
