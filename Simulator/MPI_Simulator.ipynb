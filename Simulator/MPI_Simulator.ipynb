{
 "cells": [
  {
   "cell_type": "code",
   "execution_count": 1,
   "metadata": {},
   "outputs": [],
   "source": [
    "import numpy as np\n",
    "import pandas as pd\n",
    "from matplotlib import pyplot as plt\n",
    "import csv"
   ]
  },
  {
   "cell_type": "code",
   "execution_count": 2,
   "metadata": {},
   "outputs": [],
   "source": [
    "P = 16"
   ]
  },
  {
   "cell_type": "code",
   "execution_count": 3,
   "metadata": {},
   "outputs": [],
   "source": [
    "def print_mat(MAT, Format = '%.0f '):\n",
    "    for r in MAT:\n",
    "        Line = ''\n",
    "        for c in r:     \n",
    "            Line += (Format%(c))  \n",
    "        print(Line)"
   ]
  },
  {
   "cell_type": "code",
   "execution_count": 4,
   "metadata": {},
   "outputs": [],
   "source": [
    "def Draw_mat(M, colorbar=False,Figsize = [5,5],title = None):\n",
    "    global P\n",
    "    plt.figure(figsize = Figsize)\n",
    "    \n",
    "    for i in np.arange(0.5,P-1,1.0):\n",
    "        plt.axhline(y=i, xmin=-0.5, xmax=P-0.5, linewidth=2, color=(0.5,0.5,0.5))\n",
    "        plt.axvline(x=i, ymin=-0.5, ymax=P-0.5, linewidth=2, color=(0.5,0.5,0.5))\n",
    "    plt.imshow(M if colorbar else 1-M, cmap = plt.cm.hot, interpolation = 'nearest')\n",
    "    \n",
    "    plt.xticks(range(0,M.shape[1],4))\n",
    "    plt.yticks(range(0,M.shape[0],4))\n",
    "    \n",
    "    if title:\n",
    "        plt.title(title)\n",
    "    \n",
    "    if colorbar:\n",
    "        plt.colorbar(ticks=range((int)(np.max(M))+1), orientation='vertical')\n",
    "    \n",
    "    plt.show()\n",
    "                "
   ]
  },
  {
   "cell_type": "code",
   "execution_count": 5,
   "metadata": {},
   "outputs": [],
   "source": [
    "# Adjacency Matrix\n",
    "def Get_ADJ(file_path):\n",
    "    F = pd.read_csv(file_path, delimiter = ' ', header = None)\n",
    "    return (F.values).astype('float32')"
   ]
  },
  {
   "cell_type": "code",
   "execution_count": 6,
   "metadata": {},
   "outputs": [],
   "source": [
    "def Get_Static_Table(file_path):\n",
    "    F = open(file_path,'r')\n",
    "    FC = csv.reader(F)\n",
    "    Table = {}\n",
    "    \n",
    "    for line in FC:\n",
    "        l,r = line[0].split('|')\n",
    "        seq = []\n",
    "        for ele in line[2:]:\n",
    "            seq.append((int)(ele))\n",
    "            \n",
    "        Table[((int)(l),(int)(r))] = seq\n",
    "    \n",
    "    F.close()\n",
    "    \n",
    "    return Table"
   ]
  },
  {
   "cell_type": "code",
   "execution_count": 7,
   "metadata": {},
   "outputs": [],
   "source": [
    "Target_Topology = '16k4torus'"
   ]
  },
  {
   "cell_type": "code",
   "execution_count": 8,
   "metadata": {},
   "outputs": [],
   "source": [
    "Adj = Get_ADJ('topology/%s.adj'%Target_Topology)\n",
    "SRTable = Get_Static_Table('topology/%s_Static.srt'%Target_Topology)"
   ]
  },
  {
   "cell_type": "code",
   "execution_count": 9,
   "metadata": {
    "scrolled": false
   },
   "outputs": [
    {
     "data": {
      "image/png": "[encoded data removed]",
      "text/plain": [
       "<matplotlib.figure.Figure at 0x20ae97f8e80>"
      ]
     },
     "metadata": {},
     "output_type": "display_data"
    }
   ],
   "source": [
    "Draw_mat(Adj)"
   ]
  },
  {
   "cell_type": "code",
   "execution_count": 10,
   "metadata": {
    "scrolled": true
   },
   "outputs": [],
   "source": [
    "I_P = np.identity(P)"
   ]
  },
  {
   "cell_type": "code",
   "execution_count": 11,
   "metadata": {},
   "outputs": [],
   "source": [
    "def smoothstep(x):\n",
    "    R,C = x.shape\n",
    "    for r in range(R):\n",
    "        for c in range(C):\n",
    "            if x[c][r] > 1:\n",
    "                x[c][r] = 1"
   ]
  },
  {
   "cell_type": "code",
   "execution_count": 12,
   "metadata": {},
   "outputs": [],
   "source": [
    "def Generate_RouteTree(A_now, D_now):\n",
    "    global I_P\n",
    "    D_next = np.matmul(I_P+Adj,D_now)\n",
    "    smoothstep(D_next)\n",
    "    return A_now, D_next"
   ]
  },
  {
   "cell_type": "code",
   "execution_count": 13,
   "metadata": {},
   "outputs": [],
   "source": [
    "from copy import copy"
   ]
  },
  {
   "cell_type": "code",
   "execution_count": 14,
   "metadata": {},
   "outputs": [],
   "source": [
    "A = copy(Adj)\n",
    "step = 0\n",
    "D = np.identity(P)\n",
    "Routines = []\n",
    "\n",
    "while (np.min(D) == 0):\n",
    "    A,D_N = Generate_RouteTree(A,D)\n",
    "    Routines.append(np.transpose(D_N - D))\n",
    "    D = D_N\n",
    "    step += 1"
   ]
  },
  {
   "cell_type": "code",
   "execution_count": 15,
   "metadata": {},
   "outputs": [
    {
     "data": {
      "image/png": "[encoded data removed]",
      "text/plain": [
       "<matplotlib.figure.Figure at 0x20aeb958908>"
      ]
     },
     "metadata": {},
     "output_type": "display_data"
    },
    {
     "data": {
      "image/png": "[encoded data removed]",
      "text/plain": [
       "<matplotlib.figure.Figure at 0x20aeb96e668>"
      ]
     },
     "metadata": {},
     "output_type": "display_data"
    },
    {
     "data": {
      "image/png": "[encoded data removed]",
      "text/plain": [
       "<matplotlib.figure.Figure at 0x20aeba16400>"
      ]
     },
     "metadata": {},
     "output_type": "display_data"
    },
    {
     "data": {
      "image/png": "[encoded data removed]",
      "text/plain": [
       "<matplotlib.figure.Figure at 0x20aebaba828>"
      ]
     },
     "metadata": {},
     "output_type": "display_data"
    }
   ],
   "source": [
    "s = 1\n",
    "for M in Routines:\n",
    "    Draw_mat(M,Figsize=[3,3],title='<dist = %i>'%s)\n",
    "    s += 1"
   ]
  },
  {
   "cell_type": "markdown",
   "metadata": {},
   "source": [
    "# Find Routine"
   ]
  },
  {
   "cell_type": "code",
   "execution_count": 16,
   "metadata": {},
   "outputs": [],
   "source": [
    "def get_BAMMA(filepath, rank_map = None):\n",
    "    global P\n",
    "    if rank_map == None:\n",
    "        rank_map = {i:i for i in range(P)}\n",
    "    \n",
    "    Algorithm = {}\n",
    "    F = open(filepath,'r')\n",
    "    FC = csv.reader(F)\n",
    "    for line in FC:\n",
    "        if line[0][0] == '@':         # @ node\n",
    "            rank = rank_map[(int)(line[0][1:])]\n",
    "            Algorithm[rank] = []   # add node\n",
    "            i = 1\n",
    "            while i < len(line):\n",
    "                if line[i] == 'C': # Compute\n",
    "                    Vol = (int)(line[i+1])*\\\n",
    "                          (int)(line[i+2])*\\\n",
    "                          (int)(line[i+3])\n",
    "                    Algorithm[rank].append(('C',Vol))\n",
    "                    i += 3\n",
    "                elif line[i] == 'S': # Compute\n",
    "                    Area = (int)(line[i+2])*(int)(line[i+3])\n",
    "                    Algorithm[rank].append(('S',rank_map[(int)(line[i+1])],Area))\n",
    "                    i += 3\n",
    "                elif line[i] == 'R': # Compute\n",
    "                    Area = (int)(line[i+2])*(int)(line[i+3])\n",
    "                    Algorithm[rank].append(('R',rank_map[(int)(line[i+1])],Area))\n",
    "                    i += 3\n",
    "                    \n",
    "                    \n",
    "                i += 1\n",
    "    F.close()            \n",
    "    return Algorithm\n",
    "                "
   ]
  },
  {
   "cell_type": "markdown",
   "metadata": {},
   "source": [
    "# Get Routine Table"
   ]
  },
  {
   "cell_type": "code",
   "execution_count": 17,
   "metadata": {},
   "outputs": [],
   "source": [
    "rand_series = np.random.permutation(np.arange(P))\n",
    "random_map = {i:rand_series[i] for i in range(P)}"
   ]
  },
  {
   "cell_type": "code",
   "execution_count": 18,
   "metadata": {},
   "outputs": [
    {
     "data": {
      "text/plain": [
       "{0: 0,\n",
       " 1: 6,\n",
       " 2: 3,\n",
       " 3: 7,\n",
       " 4: 10,\n",
       " 5: 4,\n",
       " 6: 9,\n",
       " 7: 5,\n",
       " 8: 14,\n",
       " 9: 8,\n",
       " 10: 2,\n",
       " 11: 11,\n",
       " 12: 12,\n",
       " 13: 1,\n",
       " 14: 13,\n",
       " 15: 15}"
      ]
     },
     "execution_count": 18,
     "metadata": {},
     "output_type": "execute_result"
    }
   ],
   "source": [
    "random_map"
   ]
  },
  {
   "cell_type": "code",
   "execution_count": 19,
   "metadata": {},
   "outputs": [
    {
     "data": {
      "text/plain": [
       "'random_map = {\\n    0:0,\\n    1:8,\\n    2:9,\\n    3:1,\\n    4:2,\\n    5:10,\\n    6:11,\\n    7:3,\\n    8:4,\\n    9:12,\\n    10:13,\\n    11:5,\\n    12:6,\\n    13:14,\\n    14:15,\\n    15:7,\\n}'"
      ]
     },
     "execution_count": 19,
     "metadata": {},
     "output_type": "execute_result"
    }
   ],
   "source": [
    "\"\"\"random_map = {\n",
    "    0:0,\n",
    "    1:8,\n",
    "    2:9,\n",
    "    3:1,\n",
    "    4:2,\n",
    "    5:10,\n",
    "    6:11,\n",
    "    7:3,\n",
    "    8:4,\n",
    "    9:12,\n",
    "    10:13,\n",
    "    11:5,\n",
    "    12:6,\n",
    "    13:14,\n",
    "    14:15,\n",
    "    15:7,\n",
    "}\"\"\""
   ]
  },
  {
   "cell_type": "code",
   "execution_count": 20,
   "metadata": {},
   "outputs": [],
   "source": [
    "Alg_Name = 'SUMMA'\n",
    "Routine = get_BAMMA('BAMMA/P16_SUMMA.csv',random_map)"
   ]
  },
  {
   "cell_type": "markdown",
   "metadata": {},
   "source": [
    "# static routine"
   ]
  },
  {
   "cell_type": "code",
   "execution_count": 21,
   "metadata": {},
   "outputs": [],
   "source": [
    "def Route_On_Static(Sender,Reciever,RTable,status,area):\n",
    "    Act_to_Add = {p:[] for p in range(len(status))}\n",
    "    Route = RTable[(Sender,Reciever)]\n",
    "    \n",
    "    # Sequencial\n",
    "    prev = Sender\n",
    "    for p in Route:\n",
    "        # Waiting Time\n",
    "        # update status\n",
    "        if status[p] > status[prev]:\n",
    "            Act_to_Add[prev].append(('W',status[p]-status[prev]))\n",
    "            status[prev] = status[p]\n",
    "        elif status[p] < status[prev]:\n",
    "            Act_to_Add[p].append(('W',status[prev]-status[p]))\n",
    "            status[p] = status[prev]\n",
    "        \n",
    "        # Comm Time\n",
    "        Act_to_Add[prev].append(('S',area))\n",
    "        Act_to_Add[p].append(('R',area))\n",
    "        status[p] += area\n",
    "        status[prev] += area\n",
    "        \n",
    "        # next pair\n",
    "        prev = copy(p)\n",
    "\n",
    "    return Act_to_Add"
   ]
  },
  {
   "cell_type": "markdown",
   "metadata": {},
   "source": [
    "# dynamic routine"
   ]
  },
  {
   "cell_type": "code",
   "execution_count": 22,
   "metadata": {},
   "outputs": [],
   "source": [
    "# Recursive Method\n",
    "def iter_path(From, To, Adj_M, status, path, time):\n",
    "    Path = copy(path)\n",
    "    Time = copy(time)\n",
    "    \n",
    "    # Get Dest Directly\n",
    "    if Adj_M[From][To] == 1:\n",
    "        Path.append(To)\n",
    "        return Path,abs(status[To]-status[From])\n",
    "    \n",
    "    # Compare the results\n",
    "    my_min_path = []\n",
    "    min_Time = np.inf\n",
    "    min_Len = np.inf\n",
    "    ind = 0\n",
    "    for p in Adj_M[:,From]:\n",
    "        if p == 1 and ind not in Path:\n",
    "            Path.append(ind)\n",
    "            Time += abs(status[ind]-status[From])\n",
    "            sub_Path,Time = iter_path(ind,To,Adj_M,status,Path,Time)\n",
    "            \n",
    "            if len(sub_Path):\n",
    "                if len(sub_Path) < min_Len or \\\n",
    "                  (len(sub_Path) == min_Len and Time < min_Time):\n",
    "                    my_min_path = sub_Path\n",
    "                    min_Len = len(sub_Path)\n",
    "                    min_Time = Time\n",
    "            \n",
    "        ind += 1\n",
    "    \n",
    "    return my_min_path,Time"
   ]
  },
  {
   "cell_type": "code",
   "execution_count": 23,
   "metadata": {},
   "outputs": [],
   "source": [
    "def Route_On_Dynamic(Sender,Reciever,Adj_M,status,area):\n",
    "    Act_to_Add = {p:[] for p in range(len(status))}\n",
    "    Route,Time = iter_path(Sender,Reciever,Adj_M,status,[Sender],0)\n",
    "    \n",
    "    # Sequencial\n",
    "    prev = Sender\n",
    "    for p in Route:\n",
    "        # Waiting Time\n",
    "        # update status\n",
    "        if status[p] > status[prev]:\n",
    "            Act_to_Add[prev].append(('W',status[p]-status[prev]))\n",
    "            status[prev] = status[p]\n",
    "        elif status[p] < status[prev]:\n",
    "            Act_to_Add[p].append(('W',status[prev]-status[p]))\n",
    "            status[p] = status[prev]\n",
    "        \n",
    "        # Comm Time\n",
    "        Act_to_Add[prev].append(('S',area))\n",
    "        Act_to_Add[p].append(('R',area))\n",
    "        status[p] += area\n",
    "        status[prev] += area\n",
    "        \n",
    "        # next pair\n",
    "        prev = copy(p)\n",
    "\n",
    "    return Act_to_Add\n",
    "    "
   ]
  },
  {
   "cell_type": "code",
   "execution_count": 24,
   "metadata": {},
   "outputs": [],
   "source": [
    "def Real_Routine(Raw_Route,Adj_M,method='S'):\n",
    "    # get num of actions vs each node\n",
    "    Total_P = len(Raw_Route)\n",
    "\n",
    "    lengths = np.zeros(Total_P,dtype='int32')\n",
    "\n",
    "    for r,line in Raw_Route.items():\n",
    "        lengths[r] = len(line)\n",
    "\n",
    "    # Result\n",
    "    Routine = {i:[] for i in range(Total_P)}\n",
    "    # Nodes Status\n",
    "    # 0:idle >0:length of queue\n",
    "    Status = np.zeros(Total_P,dtype='int64')\n",
    "    \n",
    "        \n",
    "    # BFS\n",
    "    p = 0\n",
    "    process = np.zeros(Total_P,dtype='int32')\n",
    "    while True:\n",
    "        # Finished\n",
    "        if np.max(np.abs(lengths-process)) == 0:\n",
    "            return Routine\n",
    "        # finished nodes\n",
    "        if lengths[p] == process[p]:\n",
    "            p = (p+1)%Total_P\n",
    "            continue\n",
    "        \n",
    "        Action = Raw_Route[p][process[p]]\n",
    "        \n",
    "        # overhead\n",
    "        global SRTable\n",
    "        Status -= np.min(Status)  # processing\n",
    "\n",
    "        if Action[0] == 'C':      # Computation\n",
    "            Routine[p].append(Action)\n",
    "            # add queue\n",
    "            Status[p] += Action[-1]\n",
    "        elif Action[0] == 'S':    # Send\n",
    "            # Route_On_Dynamic\n",
    "            if method == 'S' or method == 's':\n",
    "                Acts = Route_On_Static(p,Action[1],SRTable,Status,Action[-1])\n",
    "            elif method == 'D' or method == 'd':\n",
    "                Acts = Route_On_Dynamic(p,Action[1],Adj_M,Status,Action[-1])\n",
    "            else:\n",
    "                print('Unrecognized Method: ',method)\n",
    "                return\n",
    "            \n",
    "            for pp,act in Acts.items():\n",
    "                Routine[pp] += act\n",
    "            \n",
    "        elif Action[0] == 'R':    # Recieve\n",
    "            pass # done by sender\n",
    "            \n",
    "        \n",
    "        \n",
    "        # Update\n",
    "        process[p] += 1\n",
    "        p = (p+1)%Total_P\n",
    "        \n",
    "        \n",
    "        \n",
    "    return Routine"
   ]
  },
  {
   "cell_type": "code",
   "execution_count": 25,
   "metadata": {},
   "outputs": [],
   "source": [
    "# map_rank\n",
    "def swap_row(M,r1,r2):\n",
    "    temp_r = M[r2,:]\n",
    "    M[r2,:] = M[r1,:]\n",
    "    M[r1,:] = temp_r\n",
    "    \n",
    "def swap_col(M,c1,c2):\n",
    "    temp_c = M[:,c2]\n",
    "    M[:,c2] = M[:,c1]\n",
    "    M[:,c1] = temp_c\n",
    "\n",
    "def map_ranks(Adj_M,Map):\n",
    "    new_Adj = copy(Adj_M)\n",
    "    for f,t in Map.items:\n",
    "        swap_row(new_Adj,f,t)\n",
    "        swap_col(new_Adj,f,t)\n",
    "        "
   ]
  },
  {
   "cell_type": "markdown",
   "metadata": {},
   "source": [
    "# Draw squares"
   ]
  },
  {
   "cell_type": "code",
   "execution_count": 26,
   "metadata": {},
   "outputs": [],
   "source": [
    "from matplotlib import patches"
   ]
  },
  {
   "cell_type": "code",
   "execution_count": 27,
   "metadata": {},
   "outputs": [],
   "source": [
    "Color_Table = {\n",
    "    'C':[0,1,0,1],\n",
    "    'S':[1,0,0,1],\n",
    "    'R':[1,1,0,1],\n",
    "    'W':[0.3,0.3,0.3]\n",
    "}"
   ]
  },
  {
   "cell_type": "code",
   "execution_count": 28,
   "metadata": {},
   "outputs": [],
   "source": [
    "def Draw_Route_Table(Routes,title=None):\n",
    "    global Color_Table\n",
    "    Total_P = len(Routes)\n",
    "    Fig1 = plt.figure(figsize=[10,10])\n",
    "    ax = plt.subplot(111)\n",
    "    # comp:green | send:red | recv:orange | idle:gray\n",
    "    x_max = 0\n",
    "    distribution = np.zeros(Total_P,dtype='int64')\n",
    "    for p in range(Total_P):\n",
    "        x = 0\n",
    "        m_xmax = 0\n",
    "        for act in Routes[p]:\n",
    "            ax.add_patch(\n",
    "                patches.Rectangle((x,p-0.24),act[1],0.48,\n",
    "                                  fill=True,\n",
    "                                  ec=None,\n",
    "                                  fc=Color_Table[act[0]])\n",
    "            )\n",
    "            x += act[1]\n",
    "            m_xmax += act[1]\n",
    "        if m_xmax > x_max:\n",
    "            x_max = m_xmax\n",
    "            \n",
    "        distribution[p] = m_xmax\n",
    "            \n",
    "    XTicks = np.array(np.arange(0,(int)(x_max),(int)(x_max/10)))\n",
    "    if x_max-XTicks[-1] < (int)(x_max/15):\n",
    "        XTicks[-1] = x_max\n",
    "    else:\n",
    "        XTicks = np.append(XTicks,x_max)\n",
    "    \n",
    "    plt.xticks(XTicks)\n",
    "    plt.yticks(range(Total_P))\n",
    "    plt.axis([0,x_max,-0.5,Total_P-0.5])\n",
    "    \n",
    "    # legends\n",
    "    legends = [\n",
    "        patches.Patch(color='green', label='Computation'),\n",
    "        patches.Patch(color='red', label='Send'),\n",
    "        patches.Patch(color='yellow', label='Recieve'),\n",
    "        patches.Patch(color='gray', label='Idle/Wait')\n",
    "    ]\n",
    "    \n",
    "    plt.legend(handles=legends,\n",
    "               loc='center left', \n",
    "               bbox_to_anchor=(1.02, 0.75))\n",
    "    if title:\n",
    "        plt.title(title)\n",
    "        \n",
    "    plt.savefig('Results/%s.jpg'%(title))\n",
    "\n",
    "    plt.show()\n",
    "    return distribution"
   ]
  },
  {
   "cell_type": "code",
   "execution_count": 29,
   "metadata": {
    "scrolled": false
   },
   "outputs": [
    {
     "data": {
      "image/png": "[encoded data removed]",
      "text/plain": [
       "<matplotlib.figure.Figure at 0x20aeb9370b8>"
      ]
     },
     "metadata": {},
     "output_type": "display_data"
    }
   ],
   "source": [
    "RR = Real_Routine(Routine,Adj,method='D')\n",
    "Distribution_D = Draw_Route_Table(RR,title='%s_%s__DYNAMIC'%(Target_Topology,Alg_Name))"
   ]
  },
  {
   "cell_type": "code",
   "execution_count": 30,
   "metadata": {
    "scrolled": false
   },
   "outputs": [
    {
     "data": {
      "image/png": "[encoded data removed]",
      "text/plain": [
       "<matplotlib.figure.Figure at 0x20aeb9375c0>"
      ]
     },
     "metadata": {},
     "output_type": "display_data"
    }
   ],
   "source": [
    "RR = Real_Routine(Routine,Adj,method='S')\n",
    "Distribution_S = Draw_Route_Table(RR,title='%s_%s__STATIC'%(Target_Topology,Alg_Name))"
   ]
  },
  {
   "cell_type": "markdown",
   "metadata": {},
   "source": [
    "# Compare Distributions"
   ]
  },
  {
   "cell_type": "code",
   "execution_count": 31,
   "metadata": {},
   "outputs": [],
   "source": [
    "def compare_distributions(dis1,dis2,\n",
    "                          color1=[1,0,0,0.5],\n",
    "                          color2=[0,0,1,0.5],\n",
    "                          width = 1):\n",
    "    Fig = plt.figure(figsize=[10,5])\n",
    "    Total_P = len(dis1)\n",
    "    # check the number of nodes resp.\n",
    "    assert len(dis1)==len(dis2),'distributions not matched!'\n",
    "    \n",
    "    # bar chart\n",
    "    ax = plt.subplot(111)\n",
    "    for p in range(Total_P):\n",
    "        ax.add_patch(\n",
    "            patches.Rectangle((p-width/2,0),width,dis1[p],\n",
    "                              fill=True,\n",
    "                              ec=[0.8,0.8,0.8,1],\n",
    "                              fc=color1)\n",
    "            )\n",
    "        ax.add_patch(\n",
    "            patches.Rectangle((p-width/4,0),width/2,dis2[p],\n",
    "                              fill=True,\n",
    "                              ec=[0.8,0.8,0.8,1],\n",
    "                              fc=color2)\n",
    "            )\n",
    "    \n",
    "    max_D = max([np.max(dis1),np.max(dis2)])\n",
    "   \n",
    "\n",
    "    Y_Ticks = list(range(0,max_D,(int)(max_D/10)))\n",
    "    if max_D-Y_Ticks[-1] < (int)(max_D/15):\n",
    "        Y_Ticks[-1] = max_D\n",
    "    \n",
    "    plt.xticks(range(Total_P))\n",
    "    plt.yticks(Y_Ticks)\n",
    "    plt.axis([0-0.5,Total_P-0.5,0,max_D*1.05])\n",
    "    plt.show()"
   ]
  },
  {
   "cell_type": "code",
   "execution_count": 32,
   "metadata": {},
   "outputs": [
    {
     "data": {
      "image/png": "[encoded data removed]",
      "text/plain": [
       "<matplotlib.figure.Figure at 0x20aebc8cdd8>"
      ]
     },
     "metadata": {},
     "output_type": "display_data"
    }
   ],
   "source": [
    "compare_distributions(Distribution_D,Distribution_S)"
   ]
  },
  {
   "cell_type": "code",
   "execution_count": null,
   "metadata": {},
   "outputs": [],
   "source": []
  }
 ],
 "metadata": {
  "kernelspec": {
   "display_name": "Python 3",
   "language": "python",
   "name": "python3"
  },
  "language_info": {
   "codemirror_mode": {
    "name": "ipython",
    "version": 3
   },
   "file_extension": ".py",
   "mimetype": "text/x-python",
   "name": "python",
   "nbconvert_exporter": "python",
   "pygments_lexer": "ipython3",
   "version": "3.6.3"
  }
 },
 "nbformat": 4,
 "nbformat_minor": 2
}
