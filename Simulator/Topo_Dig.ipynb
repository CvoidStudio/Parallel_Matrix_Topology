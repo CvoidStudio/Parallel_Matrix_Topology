{
 "cells": [
  {
   "cell_type": "code",
   "execution_count": 1,
   "metadata": {},
   "outputs": [],
   "source": [
    "import numpy as np\n",
    "import tensorflow as tf\n",
    "import pandas as pd"
   ]
  },
  {
   "cell_type": "code",
   "execution_count": 2,
   "metadata": {},
   "outputs": [],
   "source": [
    "Data_Table = pd.read_csv('./seqData_1e6_16k3wheel_BMR441.dat',header=None)"
   ]
  },
  {
   "cell_type": "code",
   "execution_count": 3,
   "metadata": {},
   "outputs": [],
   "source": [
    "Data = (Data_Table.values).astype('float32')"
   ]
  },
  {
   "cell_type": "code",
   "execution_count": 4,
   "metadata": {},
   "outputs": [],
   "source": [
    "Data[:,0:16] = Data[:,0:16]/np.max(Data[:,0:16])\n",
    "Data[:,16] = (Data[:,16]-1e6)/(np.max(Data[:,16])-1e6)"
   ]
  },
  {
   "cell_type": "code",
   "execution_count": 5,
   "metadata": {},
   "outputs": [
    {
     "name": "stdout",
     "output_type": "stream",
     "text": [
      "1.0 1.0\n"
     ]
    }
   ],
   "source": [
    "print(np.max(Data[:,0:16]),np.max(Data[:,16]))"
   ]
  },
  {
   "cell_type": "markdown",
   "metadata": {},
   "source": [
    "# Neural network"
   ]
  },
  {
   "cell_type": "code",
   "execution_count": 6,
   "metadata": {},
   "outputs": [],
   "source": [
    "def weight_variable(shape):\n",
    "\tinitial = tf.truncated_normal(shape, stddev=0.2)\n",
    "\treturn tf.Variable(initial)\n",
    "\n",
    "def bias_variable(shape):\n",
    "\tinitial = tf.constant(0.01, shape=shape)\n",
    "\treturn tf.Variable(initial)"
   ]
  },
  {
   "cell_type": "code",
   "execution_count": 7,
   "metadata": {},
   "outputs": [],
   "source": [
    "# Input\n",
    "batch_size = 1\n",
    "in_Size = 16\n",
    "Input = tf.placeholder(tf.float32, [batch_size,in_Size])\n",
    "\n",
    "# Neural Network\n",
    "# -------------------- hidden layer #1 -------------------- #\n",
    "hidden_unit1 = 16\n",
    "lamb1 = 1e-2 # regulizer\n",
    "W_fc1 = weight_variable([in_Size, hidden_unit1])\n",
    "b_fc1 = bias_variable([hidden_unit1])\n",
    "\n",
    "h_fc1 = tf.nn.tanh(tf.matmul(Input, W_fc1) + b_fc1)\n",
    "                   #+ lamb1*(tf.nn.l2_loss(W_fc1) + tf.nn.l2_loss(b_fc1)))\n",
    "\n",
    "# -------------------- hidden layer #2 -------------------- #\n",
    "hidden_unit2 = 8\n",
    "lamb2 = 1e-2 # regulizer\n",
    "W_fc2 = weight_variable([hidden_unit1, hidden_unit2])\n",
    "b_fc2 = bias_variable([hidden_unit2])\n",
    "\n",
    "h_fc2 = tf.nn.tanh(tf.matmul(h_fc1, W_fc2) + b_fc2)\n",
    "                  #+ lamb2*(tf.nn.l2_loss(W_fc2) + tf.nn.l2_loss(b_fc2)))\n",
    "\n",
    "\n",
    "# --------------------- Output layer ---------------------- #\n",
    "Out_Unit = 1\n",
    "lambO = 1e-2 # regulizer\n",
    "W_fcO = weight_variable([hidden_unit2, Out_Unit])\n",
    "b_fcO = bias_variable([Out_Unit])\n",
    "\n",
    "y_out = 1.0/(tf.exp(-tf.matmul(h_fc2, W_fcO) - b_fcO)+1.0)\n",
    "#- lambO*tf.nn.l2_loss(W_fcO)\\\n",
    "#                - lambO*tf.nn.l2_loss(b_fcO)\n",
    "# ----------------------- Loss ---------------------------- #\n",
    "y_ref = tf.placeholder(tf.float32, 1, name='y_out')\n",
    "Err = tf.abs(tf.subtract(y_out,y_ref))\n"
   ]
  },
  {
   "cell_type": "code",
   "execution_count": 8,
   "metadata": {},
   "outputs": [],
   "source": [
    "# Optimizer\n",
    "Loss = tf.square(tf.subtract(y_out,y_ref))\n",
    "optim = tf.train.AdamOptimizer(1e-3).minimize(Loss)"
   ]
  },
  {
   "cell_type": "markdown",
   "metadata": {},
   "source": [
    "# Test"
   ]
  },
  {
   "cell_type": "code",
   "execution_count": 9,
   "metadata": {},
   "outputs": [],
   "source": [
    "sess = tf.Session(config=tf.ConfigProto(log_device_placement=True))"
   ]
  },
  {
   "cell_type": "code",
   "execution_count": 10,
   "metadata": {},
   "outputs": [],
   "source": [
    "init = tf.global_variables_initializer()\n",
    "sess.run(init)"
   ]
  },
  {
   "cell_type": "code",
   "execution_count": 11,
   "metadata": {},
   "outputs": [],
   "source": [
    "Num_Epoch = 15"
   ]
  },
  {
   "cell_type": "code",
   "execution_count": 12,
   "metadata": {},
   "outputs": [],
   "source": [
    "Training_Len = 50000"
   ]
  },
  {
   "cell_type": "code",
   "execution_count": 13,
   "metadata": {},
   "outputs": [
    {
     "name": "stdout",
     "output_type": "stream",
     "text": [
      "After epoch #0  6.162e-02\n",
      "After epoch #1  6.145e-02\n",
      "After epoch #2  5.480e-02\n",
      "After epoch #3  5.084e-02\n",
      "After epoch #4  4.832e-02\n",
      "After epoch #5  4.598e-02\n",
      "After epoch #6  4.625e-02\n",
      "After epoch #7  4.783e-02\n",
      "After epoch #8  4.531e-02\n",
      "After epoch #9  4.955e-02\n",
      "After epoch #10  4.679e-02\n",
      "After epoch #11  4.699e-02\n",
      "After epoch #12  4.789e-02\n",
      "After epoch #13  4.819e-02\n",
      "After epoch #14  4.754e-02\n"
     ]
    }
   ],
   "source": [
    "Size_perEpoch = 1000\n",
    "\n",
    "for epoch in range(Num_Epoch):\n",
    "    # Use the first 15 days for training\n",
    "    # batch of 500 per epoch\n",
    "    ERR = 0.0\n",
    "    Training_Tar = np.random.choice(range(Training_Len),Size_perEpoch)\n",
    "    for i in Training_Tar:\n",
    "        in_x = Data[i,0:16].reshape([1,in_Size])\n",
    "        tar_y = [Data[i,16]]\n",
    "        sess.run(optim,feed_dict={Input: in_x,\n",
    "                                  y_ref: tar_y})\n",
    "        \n",
    "        Test_At = i+50000\n",
    "        in_x = Data[Test_At,0:16].reshape([1,in_Size])\n",
    "        tar_y = [Data[Test_At,16]]\n",
    "        ERR += sess.run(Err,feed_dict={Input: in_x,\n",
    "                                       y_ref: tar_y})\n",
    "    \n",
    "    Err_Message = ' %.3e'%(ERR/Size_perEpoch)\n",
    "    print('After epoch #%i'%epoch, Err_Message)"
   ]
  },
  {
   "cell_type": "code",
   "execution_count": 14,
   "metadata": {},
   "outputs": [],
   "source": [
    "#saver = tf.train.Saver()"
   ]
  },
  {
   "cell_type": "code",
   "execution_count": 15,
   "metadata": {},
   "outputs": [],
   "source": [
    "#saver.save(sess,'./Model/model16k3wheel_50.ckpt')"
   ]
  },
  {
   "cell_type": "markdown",
   "metadata": {},
   "source": [
    "# Test"
   ]
  },
  {
   "cell_type": "code",
   "execution_count": 16,
   "metadata": {},
   "outputs": [],
   "source": [
    "import csv\n",
    "from copy import copy"
   ]
  },
  {
   "cell_type": "code",
   "execution_count": 17,
   "metadata": {},
   "outputs": [],
   "source": [
    "P = 16"
   ]
  },
  {
   "cell_type": "code",
   "execution_count": 18,
   "metadata": {},
   "outputs": [],
   "source": [
    "def get_BAMMA(filepath, rank_map = None):\n",
    "    global P\n",
    "    if rank_map == None:\n",
    "        rank_map = {i:i for i in range(P)}\n",
    "    \n",
    "    Algorithm = {}\n",
    "    F = open(filepath,'r')\n",
    "    FC = csv.reader(F)\n",
    "    for line in FC:\n",
    "        if line[0][0] == '@':         # @ node\n",
    "            rank = rank_map[(int)(line[0][1:])]\n",
    "            Algorithm[rank] = []   # add node\n",
    "            i = 1\n",
    "            while i < len(line):\n",
    "                if line[i] == 'C': # Compute\n",
    "                    Vol = (int)(line[i+1])*\\\n",
    "                          (int)(line[i+2])*\\\n",
    "                          (int)(line[i+3])\n",
    "                    Algorithm[rank].append(('C',Vol))\n",
    "                    i += 3\n",
    "                elif line[i] == 'S': # Compute\n",
    "                    Area = (int)(line[i+2])*(int)(line[i+3])\n",
    "                    Algorithm[rank].append(('S',rank_map[(int)(line[i+1])],Area))\n",
    "                    i += 3\n",
    "                elif line[i] == 'R': # Compute\n",
    "                    Area = (int)(line[i+2])*(int)(line[i+3])\n",
    "                    Algorithm[rank].append(('R',rank_map[(int)(line[i+1])],Area))\n",
    "                    i += 3\n",
    "                    \n",
    "                    \n",
    "                i += 1\n",
    "    F.close()            \n",
    "    return Algorithm"
   ]
  },
  {
   "cell_type": "code",
   "execution_count": 19,
   "metadata": {},
   "outputs": [],
   "source": [
    "def Route_On_Static(Sender,Reciever,RTable,status,area):\n",
    "    Act_to_Add = {p:[] for p in range(len(status))}\n",
    "    Route = RTable[(Sender,Reciever)]\n",
    "    \n",
    "    # Sequencial\n",
    "    prev = Sender\n",
    "    for p in Route:\n",
    "        # Waiting Time\n",
    "        # update status\n",
    "        if status[p] > status[prev]:\n",
    "            Act_to_Add[prev].append(('W',status[p]-status[prev]))\n",
    "            status[prev] = status[p]\n",
    "        elif status[p] < status[prev]:\n",
    "            Act_to_Add[p].append(('W',status[prev]-status[p]))\n",
    "            status[p] = status[prev]\n",
    "        \n",
    "        # Comm Time\n",
    "        Act_to_Add[prev].append(('S',area))\n",
    "        Act_to_Add[p].append(('R',area))\n",
    "        status[p] += area\n",
    "        status[prev] += area\n",
    "        \n",
    "        # next pair\n",
    "        prev = copy(p)\n",
    "\n",
    "    return Act_to_Add"
   ]
  },
  {
   "cell_type": "code",
   "execution_count": 20,
   "metadata": {},
   "outputs": [],
   "source": [
    "def Real_Routine(Raw_Route,Adj_M):\n",
    "    # get num of actions vs each node\n",
    "    Total_P = len(Raw_Route)\n",
    "\n",
    "    lengths = np.zeros(Total_P,dtype='int32')\n",
    "\n",
    "    for r,line in Raw_Route.items():\n",
    "        lengths[r] = len(line)\n",
    "\n",
    "    # Result\n",
    "    Routine = {i:[] for i in range(Total_P)}\n",
    "    # Nodes Status\n",
    "    # 0:idle >0:length of queue\n",
    "    Status = np.zeros(Total_P,dtype='int64')\n",
    "    \n",
    "        \n",
    "    # BFS\n",
    "    p = 0\n",
    "    process = np.zeros(Total_P,dtype='int32')\n",
    "    while True:\n",
    "        # Finished\n",
    "        if np.max(np.abs(lengths-process)) == 0:\n",
    "            return Routine\n",
    "        # finished nodes\n",
    "        if lengths[p] == process[p]:\n",
    "            p = (p+1)%Total_P\n",
    "            continue\n",
    "        \n",
    "        Action = Raw_Route[p][process[p]]\n",
    "        \n",
    "        # overhead\n",
    "        global SRTable\n",
    "        Status -= np.min(Status)  # processing\n",
    "\n",
    "        if Action[0] == 'C':      # Computation\n",
    "            Routine[p].append(Action)\n",
    "            # add queue\n",
    "            Status[p] += Action[-1]\n",
    "        elif Action[0] == 'S':    # Send\n",
    "            Acts = Route_On_Static(p,Action[1],SRTable,Status,Action[-1])\n",
    "\n",
    "            for pp,act in Acts.items():\n",
    "                Routine[pp] += act\n",
    "            \n",
    "        #elif Action[0] == 'R':    # Recieve\n",
    "        #    pass # done by sender\n",
    "            \n",
    "        \n",
    "        \n",
    "        # Update\n",
    "        process[p] += 1\n",
    "        p = (p+1)%Total_P\n",
    "   \n",
    "    return Routine"
   ]
  },
  {
   "cell_type": "code",
   "execution_count": 21,
   "metadata": {},
   "outputs": [],
   "source": [
    "def get_Longest(Routes):\n",
    "    Total_P = len(Routes)\n",
    "    x_max = 0\n",
    "    for p in range(Total_P):\n",
    "        m_xmax = 0\n",
    "        for act in Routes[p]:\n",
    "            m_xmax += act[1]\n",
    "        if m_xmax > x_max:\n",
    "            x_max = m_xmax\n",
    "    return x_max"
   ]
  },
  {
   "cell_type": "code",
   "execution_count": 22,
   "metadata": {},
   "outputs": [],
   "source": [
    "def Get_Saturability_Seq(Route_Tensor, Comm_M, MAP):\n",
    "    global P\n",
    "    Ser = np.zeros(P,dtype='int16')\n",
    "    i = 0\n",
    "    for z in range(P):\n",
    "        Ser[MAP[i]] = np.sum(Route_Tensor[:,:,z]*Comm_M)\n",
    "        i += 1\n",
    "    return Ser"
   ]
  },
  {
   "cell_type": "code",
   "execution_count": 23,
   "metadata": {},
   "outputs": [],
   "source": [
    "def get_RoutineTensor(file_path):\n",
    "    global P\n",
    "    Tensor = np.zeros([P,P,P],dtype = 'int16')\n",
    "    F = open(file_path,'r')\n",
    "    FC = csv.reader(F)\n",
    "    Table = {}\n",
    "    \n",
    "    for line in FC:\n",
    "        l,r = line[0].split('|')\n",
    "        ind = 1\n",
    "        for ele in line[2:]:\n",
    "            Tensor[(int)(l)][(int)(r)][(int)(ele)] = ind\n",
    "            ind += 1\n",
    "    \n",
    "    F.close()\n",
    "    \n",
    "    return Tensor"
   ]
  },
  {
   "cell_type": "code",
   "execution_count": 24,
   "metadata": {},
   "outputs": [],
   "source": [
    "def switch_nodes(M,_Map = None):\n",
    "    if not _Map:\n",
    "        _Map = {i:i for i in range(M.shape[0])}\n",
    "    Res = copy(M)\n",
    "    for src,to in _Map.items():\n",
    "        Res[to,:] = M[src,:]\n",
    "    Res1 = copy(Res)\n",
    "    for src,to in _Map.items():\n",
    "        Res1[:,to] = Res[:,src]\n",
    "    return Res1"
   ]
  },
  {
   "cell_type": "code",
   "execution_count": 25,
   "metadata": {},
   "outputs": [],
   "source": [
    "Routint_Tensor = get_RoutineTensor('topology/16k3wheel_Static.srt')"
   ]
  },
  {
   "cell_type": "code",
   "execution_count": 26,
   "metadata": {},
   "outputs": [],
   "source": [
    "def Extract_cycles(filepath, rank_map = None):\n",
    "    global P\n",
    "    \n",
    "    if rank_map == None:\n",
    "        rank_map = {i:i for i in range(P)}\n",
    "        \n",
    "    Ideal = np.zeros([P,P],dtype='int16')\n",
    "    F = open(filepath,'r')\n",
    "    FC = csv.reader(F)\n",
    "    for line in FC:\n",
    "        At = rank_map[(int)(line[0][1:])]\n",
    "        ind = 1\n",
    "        for ele in line[1:]:\n",
    "            if ele == 'S':\n",
    "                Ideal[At][rank_map[(int)(line[ind+1])]] += 1\n",
    "                Ideal[rank_map[(int)(line[ind+1])]][At] += 1\n",
    "            ind += 1\n",
    "            \n",
    "    return Ideal"
   ]
  },
  {
   "cell_type": "code",
   "execution_count": 27,
   "metadata": {},
   "outputs": [],
   "source": [
    "Unmap_Routine = Extract_cycles('BAMMA/P16_Fox441.csv')"
   ]
  },
  {
   "cell_type": "code",
   "execution_count": 28,
   "metadata": {},
   "outputs": [],
   "source": [
    "def Get_ADJ(file_path):\n",
    "    F = pd.read_csv(file_path, delimiter = ' ', header = None)\n",
    "    return (F.values).astype('float32')\n",
    "\n",
    "def Get_Static_Table(file_path):\n",
    "    F = open(file_path,'r')\n",
    "    FC = csv.reader(F)\n",
    "    Table = {}\n",
    "    \n",
    "    for line in FC:\n",
    "        l,r = line[0].split('|')\n",
    "        seq = []\n",
    "        for ele in line[2:]:\n",
    "            seq.append((int)(ele))\n",
    "            \n",
    "        Table[((int)(l),(int)(r))] = seq\n",
    "    \n",
    "    F.close()\n",
    "    \n",
    "    return Table"
   ]
  },
  {
   "cell_type": "code",
   "execution_count": 29,
   "metadata": {},
   "outputs": [],
   "source": [
    "Target_Topology = '16k3wheel'\n",
    "\n",
    "Adj = Get_ADJ('topology/%s.adj'%Target_Topology)\n",
    "SRTable = Get_Static_Table('topology/%s_Static.srt'%Target_Topology)"
   ]
  },
  {
   "cell_type": "code",
   "execution_count": 30,
   "metadata": {},
   "outputs": [],
   "source": [
    "Test_D = []\n",
    "TT = 0\n",
    "for T in range(80):\n",
    "    rand_series = np.random.permutation(np.arange(P))\n",
    "    random_map = {i:rand_series[i] for i in range(P)}\n",
    "    #random_map = Shuffle_with_Center(Center,Leaf)\n",
    "    New_M = switch_nodes(Unmap_Routine,random_map)\n",
    "    Ser = Get_Saturability_Seq(Routint_Tensor,New_M,random_map)\n",
    "    T_Routine = get_BAMMA('BAMMA/P16_Fox441.csv',rank_map=random_map)\n",
    "    m_time = get_Longest(Real_Routine(T_Routine,Adj))\n",
    "    \n",
    "    pred = sess.run(y_out,feed_dict = {\n",
    "        Input:[Ser/342.0]\n",
    "    })\n",
    "    Test_D.append((Ser,pred,m_time))\n",
    "    if T > TT + 99:\n",
    "        print(T)\n",
    "        TT = T"
   ]
  },
  {
   "cell_type": "code",
   "execution_count": 31,
   "metadata": {},
   "outputs": [],
   "source": [
    "from matplotlib import pyplot as plt"
   ]
  },
  {
   "cell_type": "code",
   "execution_count": 32,
   "metadata": {},
   "outputs": [],
   "source": [
    "XY = []\n",
    "for d in Test_D:\n",
    "    XY.append([d[1][0][0],d[2]])\n",
    "XY = np.array(XY)"
   ]
  },
  {
   "cell_type": "code",
   "execution_count": 33,
   "metadata": {},
   "outputs": [
    {
     "data": {
      "image/png": "[encoded data removed]",
      "text/plain": [
       "<Figure size 720x720 with 1 Axes>"
      ]
     },
     "metadata": {},
     "output_type": "display_data"
    }
   ],
   "source": [
    "fig1 = plt.figure(figsize=[10,10])\n",
    "\n",
    "\n",
    "plt.plot(np.arange(len(Test_D)),(XY[:,1]-1e6)/(2224128.0-1e6),'r--')\n",
    "plt.plot(np.arange(len(Test_D)),XY[:,0],'b-')\n",
    "\n",
    "plt.xticks(color='white')\n",
    "plt.yticks(color='white')\n",
    "plt.show()"
   ]
  },
  {
   "cell_type": "markdown",
   "metadata": {},
   "source": [
    "# Annealing"
   ]
  },
  {
   "cell_type": "code",
   "execution_count": 34,
   "metadata": {},
   "outputs": [],
   "source": [
    "def accumulate_map(map1,rot_map):\n",
    "    new_map = copy(map1)\n",
    "    for ind,val in rot_map.items():\n",
    "        new_map[ind] = copy(map1[val])\n",
    "    return new_map"
   ]
  },
  {
   "cell_type": "code",
   "execution_count": 35,
   "metadata": {},
   "outputs": [],
   "source": [
    "def get_rotmap_N(src,num=None):\n",
    "    if num == None:\n",
    "        num = len(src)\n",
    "    sub_src = np.random.choice(src,size=num,replace=False)\n",
    "    sub_tar = np.random.permutation(sub_src)\n",
    "    res = {}\n",
    "    for i in range(num):\n",
    "        res[sub_src[i]] = sub_tar[i]\n",
    "        \n",
    "    return res"
   ]
  },
  {
   "cell_type": "code",
   "execution_count": 36,
   "metadata": {},
   "outputs": [],
   "source": [
    "def sigmoid(x,Lambda=1):\n",
    "    return 2.0/(1.0 + np.exp(-Lambda*x))"
   ]
  },
  {
   "cell_type": "code",
   "execution_count": 41,
   "metadata": {},
   "outputs": [
    {
     "name": "stdout",
     "output_type": "stream",
     "text": [
      "0 --> 1371431.347415924\n",
      "1 --> 1346986.4235591888\n",
      "5 --> 1335132.0088481903\n",
      "11 --> 1334909.1047000885\n",
      "17 --> 1330201.887134552\n",
      "18 --> 1328370.4614162445\n",
      "21 --> 1328370.4614162445\n",
      "22 --> 1322206.413843155\n",
      "31 --> 1314293.2801036835\n",
      "35 --> 1312582.6458148956\n",
      "45 --> 1311708.02976799\n",
      "50 --> 1307378.800725937\n",
      "52 --> 1305621.6155872345\n",
      "63 --> 1291091.694425583\n",
      "108 --> 1291091.694425583\n",
      "109 --> 1288076.0128965378\n",
      "121 --> 1284067.915403366\n",
      "125 --> 1282375.686211586\n",
      "129 --> 1282375.686211586\n",
      "133 --> 1282375.686211586\n",
      "134 --> 1282375.686211586\n",
      "170 --> 1282375.686211586\n",
      "215 --> 1282375.686211586\n",
      "234 --> 1282201.193488121\n",
      "252 --> 1282201.193488121\n",
      "285 --> 1282201.193488121\n",
      "288 --> 1282201.193488121\n",
      "335 --> 1280717.6770019531\n",
      "343 --> 1280717.6770019531\n",
      "398 --> 1280717.6770019531\n",
      "454 --> 1280717.6770019531\n",
      "480 --> 1280717.6770019531\n",
      "481 --> 1280717.6770019531\n",
      "523 --> 1280717.6770019531\n",
      "526 --> 1280717.6770019531\n",
      "541 --> 1280717.6770019531\n",
      "552 --> 1280717.6770019531\n",
      "586 --> 1280365.1710557938\n",
      "590 --> 1279956.8113861084\n",
      "594 --> 1279956.8113861084\n",
      "603 --> 1279956.8113861084\n",
      "607 --> 1279956.8113861084\n",
      "661 --> 1279956.8113861084\n",
      "673 --> 1279956.8113861084\n",
      "675 --> 1279956.8113861084\n",
      "676 --> 1279956.8113861084\n",
      "683 --> 1279956.8113861084\n",
      "697 --> 1279956.8113861084\n",
      "704 --> 1279956.8113861084\n",
      "729 --> 1279956.8113861084\n",
      "734 --> 1279956.8113861084\n",
      "776 --> 1279956.8113861084\n",
      "803 --> 1279956.8113861084\n",
      "826 --> 1279956.8113861084\n",
      "835 --> 1279956.8113861084\n",
      "840 --> 1279956.8113861084\n",
      "855 --> 1279956.8113861084\n",
      "889 --> 1279956.8113861084\n",
      "915 --> 1279956.8113861084\n",
      "1002 --> 1279956.8113861084\n",
      "1003 --> 1279956.8113861084\n",
      "1012 --> 1279956.8113861084\n",
      "1046 --> 1279956.8113861084\n",
      "1069 --> 1279956.8113861084\n",
      "1126 --> 1279956.8113861084\n",
      "1157 --> 1279956.8113861084\n",
      "1242 --> 1279956.8113861084\n",
      "1298 --> 1279956.8113861084\n",
      "1301 --> 1279956.8113861084\n",
      "1328 --> 1279956.8113861084\n",
      "1354 --> 1279956.8113861084\n",
      "1362 --> 1279956.8113861084\n",
      "1435 --> 1278944.3121595383\n",
      "1444 --> 1278944.3121595383\n",
      "1454 --> 1278944.3121595383\n",
      "1477 --> 1278360.2193832397\n",
      "1478 --> 1278360.2193832397\n",
      "1483 --> 1278360.2193832397\n",
      "1502 --> 1278360.2193832397\n",
      "1509 --> 1278087.243885994\n",
      "1513 --> 1277827.401857376\n",
      "1535 --> 1277827.401857376\n",
      "1542 --> 1277827.401857376\n",
      "1605 --> 1277827.401857376\n",
      "1644 --> 1277827.401857376\n",
      "1688 --> 1277827.401857376\n",
      "1704 --> 1277827.401857376\n",
      "1742 --> 1277827.401857376\n",
      "1756 --> 1277827.401857376\n",
      "1764 --> 1277827.401857376\n",
      "1799 --> 1277827.401857376\n",
      "1809 --> 1277827.401857376\n",
      "1878 --> 1277827.401857376\n",
      "1886 --> 1277827.401857376\n",
      "1897 --> 1277827.401857376\n",
      "1907 --> 1277827.401857376\n",
      "1948 --> 1277827.401857376\n",
      "1966 --> 1276847.9734344482\n",
      "2051 --> 1276338.686706543\n",
      "2066 --> 1276338.686706543\n",
      "2072 --> 1276338.686706543\n",
      "2165 --> 1276338.686706543\n",
      "2182 --> 1276338.686706543\n",
      "2204 --> 1276338.686706543\n",
      "2219 --> 1276338.686706543\n",
      "2236 --> 1276338.686706543\n",
      "2239 --> 1276338.686706543\n",
      "2240 --> 1276338.686706543\n",
      "2244 --> 1276338.686706543\n",
      "2249 --> 1276338.686706543\n",
      "2262 --> 1276338.686706543\n",
      "2269 --> 1276338.686706543\n",
      "2281 --> 1276338.686706543\n",
      "2295 --> 1276338.686706543\n",
      "2306 --> 1276338.686706543\n",
      "2320 --> 1274988.1648311615\n",
      "2339 --> 1274988.1648311615\n",
      "2343 --> 1274988.1648311615\n",
      "2378 --> 1274988.1648311615\n",
      "2386 --> 1274988.1648311615\n",
      "2401 --> 1274988.1648311615\n",
      "2426 --> 1274888.8429746628\n",
      "2429 --> 1274888.8429746628\n",
      "2437 --> 1274888.8429746628\n",
      "2448 --> 1274888.8429746628\n",
      "2467 --> 1274888.8429746628\n",
      "2477 --> 1274888.8429746628\n",
      "2490 --> 1274888.8429746628\n",
      "2519 --> 1274888.8429746628\n",
      "2521 --> 1274888.8429746628\n",
      "2550 --> 1274888.8429746628\n",
      "2594 --> 1274888.8429746628\n",
      "2605 --> 1274888.8429746628\n",
      "2610 --> 1274888.8429746628\n",
      "2634 --> 1274888.8429746628\n",
      "2642 --> 1274888.8429746628\n",
      "2690 --> 1274888.8429746628\n",
      "2703 --> 1274888.8429746628\n",
      "2723 --> 1274888.8429746628\n",
      "2724 --> 1274888.8429746628\n",
      "2727 --> 1274888.8429746628\n",
      "2748 --> 1274888.8429746628\n",
      "2752 --> 1274888.8429746628\n",
      "2824 --> 1274888.8429746628\n",
      "2866 --> 1274888.8429746628\n",
      "2874 --> 1274888.8429746628\n",
      "2894 --> 1274888.8429746628\n",
      "2908 --> 1274888.8429746628\n",
      "2979 --> 1274888.8429746628\n",
      "2987 --> 1274888.8429746628\n",
      "Finished --> 1274888.8429746628\n"
     ]
    }
   ],
   "source": [
    "min_Energy = 1e8\n",
    "TT = 0\n",
    "\n",
    "#search_dist = 0.1\n",
    "\n",
    "rand_series = np.random.permutation(np.arange(P))\n",
    "map_n = {i:rand_series[i] for i in range(P)}\n",
    "#Map_n = Get_Exchange(rand_map).astype('float32')\n",
    "step = 0\n",
    "while TT < 3000:\n",
    "    # Get Random Map\n",
    "    mov_map = get_rotmap_N(range(P),4)\n",
    "    new_map = accumulate_map(map_n,mov_map)\n",
    "    \n",
    "    New_M = switch_nodes(Unmap_Routine,new_map)\n",
    "    New_M = New_M/np.max(New_M)\n",
    "    \n",
    "    # Evaluate Energy\n",
    "    Ser_Z = Get_Saturability_Seq(Routint_Tensor,New_M,new_map)\n",
    "    pred = sess.run(y_out,feed_dict = {\n",
    "        Input:[Ser_Z/342.0]\n",
    "    })\n",
    "    #En = Annealing_Energy(Ser_Z.astype('float32'))\n",
    "    En = pred[0][0]*1224128.0 + 1e6\n",
    "    prob = sigmoid((float)(min_Energy-En)/min_Energy,1)\n",
    "    if 0.99999 < prob:\n",
    "        min_Energy = En\n",
    "        map_n = new_map\n",
    "        TT *= prob\n",
    "        print(step,'-->',min_Energy)\n",
    "            \n",
    "        \n",
    "    TT += 1\n",
    "    step += 1\n",
    "print('Finished -->',min_Energy)"
   ]
  },
  {
   "cell_type": "code",
   "execution_count": 42,
   "metadata": {},
   "outputs": [
    {
     "name": "stdout",
     "output_type": "stream",
     "text": [
      "1380352\n"
     ]
    }
   ],
   "source": [
    "T_Routine = get_BAMMA('BAMMA/P16_Fox441.csv',rank_map=map_n)\n",
    "print(get_Longest(Real_Routine(T_Routine,Adj)))"
   ]
  },
  {
   "cell_type": "code",
   "execution_count": null,
   "metadata": {},
   "outputs": [],
   "source": []
  }
 ],
 "metadata": {
  "kernelspec": {
   "display_name": "Python 3",
   "language": "python",
   "name": "python3"
  },
  "language_info": {
   "codemirror_mode": {
    "name": "ipython",
    "version": 3
   },
   "file_extension": ".py",
   "mimetype": "text/x-python",
   "name": "python",
   "nbconvert_exporter": "python",
   "pygments_lexer": "ipython3",
   "version": "3.6.3"
  }
 },
 "nbformat": 4,
 "nbformat_minor": 2
}
