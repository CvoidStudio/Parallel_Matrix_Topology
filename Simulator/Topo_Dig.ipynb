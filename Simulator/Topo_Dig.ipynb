{
 "cells": [
  {
   "cell_type": "code",
   "execution_count": 1,
   "metadata": {},
   "outputs": [],
   "source": [
    "import numpy as np\n",
    "import tensorflow as tf\n",
    "import pandas as pd"
   ]
  },
  {
   "cell_type": "code",
   "execution_count": 35,
   "metadata": {},
   "outputs": [],
   "source": [
    "Data_Table = pd.read_csv('./seqData_1e6_16k3wheel_BMR441.dat',header=None)"
   ]
  },
  {
   "cell_type": "code",
   "execution_count": 36,
   "metadata": {},
   "outputs": [],
   "source": [
    "Data = (Data_Table.values).astype('float32')"
   ]
  },
  {
   "cell_type": "code",
   "execution_count": 4,
   "metadata": {},
   "outputs": [],
   "source": [
    "Data[:,0:16] = Data[:,0:16]/np.max(Data[:,0:16])\n",
    "Data[:,16] = (Data[:,16]-1e6)/(np.max(Data[:,16])-1e6)"
   ]
  },
  {
   "cell_type": "code",
   "execution_count": 37,
   "metadata": {},
   "outputs": [
    {
     "name": "stdout",
     "output_type": "stream",
     "text": [
      "342.0 2224128.0\n"
     ]
    }
   ],
   "source": [
    "print(np.max(Data[:,0:16]),np.max(Data[:,16]))"
   ]
  },
  {
   "cell_type": "markdown",
   "metadata": {},
   "source": [
    "# Neural network"
   ]
  },
  {
   "cell_type": "code",
   "execution_count": 6,
   "metadata": {},
   "outputs": [],
   "source": [
    "def weight_variable(shape):\n",
    "\tinitial = tf.truncated_normal(shape, stddev=0.2)\n",
    "\treturn tf.Variable(initial)\n",
    "\n",
    "def bias_variable(shape):\n",
    "\tinitial = tf.constant(0.01, shape=shape)\n",
    "\treturn tf.Variable(initial)"
   ]
  },
  {
   "cell_type": "code",
   "execution_count": 7,
   "metadata": {},
   "outputs": [],
   "source": [
    "# Input\n",
    "in_Size = 16\n",
    "Input = tf.placeholder(tf.float32, [1,in_Size])\n",
    "\n",
    "# Neural Network\n",
    "# -------------------- hidden layer #1 -------------------- #\n",
    "hidden_unit1 = 32\n",
    "lamb1 = 1e-2 # regulizer\n",
    "W_fc1 = weight_variable([in_Size, hidden_unit1])\n",
    "b_fc1 = bias_variable([hidden_unit1])\n",
    "\n",
    "h_fc1 = tf.nn.tanh(tf.matmul(Input, W_fc1) + b_fc1)\n",
    "\n",
    "# -------------------- hidden layer #2 -------------------- #\n",
    "hidden_unit2 = 64\n",
    "lamb2 = 1e-2 # regulizer\n",
    "W_fc2 = weight_variable([hidden_unit1, hidden_unit2])\n",
    "b_fc2 = bias_variable([hidden_unit2])\n",
    "\n",
    "h_fc2 = tf.nn.tanh(tf.matmul(h_fc1, W_fc2) + b_fc2)\n",
    "\n",
    "\n",
    "# --------------------- Output layer ---------------------- #\n",
    "Out_Unit = 1\n",
    "lambO = 1e-2 # regulizer\n",
    "W_fcO = weight_variable([hidden_unit2, Out_Unit])\n",
    "b_fcO = bias_variable([Out_Unit])\n",
    "\n",
    "y_out = 1.0/(tf.exp(-tf.matmul(h_fc2, W_fcO) - b_fcO\\\n",
    "                - lambO*tf.nn.l2_loss(W_fcO)\\\n",
    "                - lambO*tf.nn.l2_loss(b_fcO))+1.0)\n",
    "\n",
    "# ----------------------- Loss ---------------------------- #\n",
    "y_ref = tf.placeholder(tf.float32, 1, name='y_out')\n",
    "Err = tf.abs(tf.subtract(y_out,y_ref))\n"
   ]
  },
  {
   "cell_type": "code",
   "execution_count": 8,
   "metadata": {},
   "outputs": [],
   "source": [
    "# Optimizer\n",
    "Loss = tf.square(tf.subtract(y_out,y_ref))\n",
    "optim = tf.train.AdamOptimizer(1e-3).minimize(Loss)"
   ]
  },
  {
   "cell_type": "markdown",
   "metadata": {},
   "source": [
    "# Test"
   ]
  },
  {
   "cell_type": "code",
   "execution_count": 9,
   "metadata": {},
   "outputs": [],
   "source": [
    "sess = tf.Session(config=tf.ConfigProto(log_device_placement=True))"
   ]
  },
  {
   "cell_type": "code",
   "execution_count": 10,
   "metadata": {},
   "outputs": [],
   "source": [
    "init = tf.global_variables_initializer()\n",
    "sess.run(init)"
   ]
  },
  {
   "cell_type": "code",
   "execution_count": 11,
   "metadata": {},
   "outputs": [],
   "source": [
    "Num_Epoch = 20"
   ]
  },
  {
   "cell_type": "code",
   "execution_count": 12,
   "metadata": {},
   "outputs": [],
   "source": [
    "Training_Len = 50000"
   ]
  },
  {
   "cell_type": "code",
   "execution_count": 13,
   "metadata": {},
   "outputs": [
    {
     "name": "stdout",
     "output_type": "stream",
     "text": [
      "After epoch #0  6.011e-02\n",
      "After epoch #1  5.303e-02\n",
      "After epoch #2  4.934e-02\n",
      "After epoch #3  4.850e-02\n",
      "After epoch #4  4.778e-02\n",
      "After epoch #5  4.806e-02\n",
      "After epoch #6  4.836e-02\n",
      "After epoch #7  5.042e-02\n",
      "After epoch #8  4.557e-02\n",
      "After epoch #9  4.887e-02\n",
      "After epoch #10  4.893e-02\n",
      "After epoch #11  4.687e-02\n",
      "After epoch #12  4.826e-02\n",
      "After epoch #13  4.593e-02\n",
      "After epoch #14  4.950e-02\n",
      "After epoch #15  4.798e-02\n",
      "After epoch #16  4.816e-02\n",
      "After epoch #17  4.682e-02\n",
      "After epoch #18  5.075e-02\n",
      "After epoch #19  4.922e-02\n"
     ]
    }
   ],
   "source": [
    "Size_perEpoch = 1000\n",
    "\n",
    "for epoch in range(Num_Epoch):\n",
    "    # Use the first 15 days for training\n",
    "    # batch of 500 per epoch\n",
    "    ERR = 0.0\n",
    "    Training_Tar = np.random.choice(range(Training_Len),Size_perEpoch)\n",
    "    for i in Training_Tar:\n",
    "        in_x = Data[i,0:16].reshape([1,in_Size])\n",
    "        tar_y = [Data[i,16]]\n",
    "        sess.run(optim,feed_dict={Input: in_x,\n",
    "                                  y_ref: tar_y})\n",
    "        \n",
    "        Test_At = i+50000\n",
    "        in_x = Data[Test_At,0:16].reshape([1,in_Size])\n",
    "        tar_y = [Data[Test_At,16]]\n",
    "        ERR += sess.run(Err,feed_dict={Input: in_x,\n",
    "                                       y_ref: tar_y})\n",
    "    \n",
    "    Err_Message = ' %.3e'%(ERR/Size_perEpoch)\n",
    "    print('After epoch #%i'%epoch, Err_Message)"
   ]
  },
  {
   "cell_type": "code",
   "execution_count": 14,
   "metadata": {},
   "outputs": [],
   "source": [
    "#saver = tf.train.Saver()"
   ]
  },
  {
   "cell_type": "code",
   "execution_count": 15,
   "metadata": {},
   "outputs": [],
   "source": [
    "#saver.save(sess,'./Model/model16k3wheel_50.ckpt')"
   ]
  },
  {
   "cell_type": "markdown",
   "metadata": {},
   "source": [
    "# Test"
   ]
  },
  {
   "cell_type": "code",
   "execution_count": 16,
   "metadata": {},
   "outputs": [],
   "source": [
    "import csv\n",
    "from copy import copy"
   ]
  },
  {
   "cell_type": "code",
   "execution_count": 17,
   "metadata": {},
   "outputs": [],
   "source": [
    "P = 16"
   ]
  },
  {
   "cell_type": "code",
   "execution_count": 18,
   "metadata": {},
   "outputs": [],
   "source": [
    "def get_BAMMA(filepath, rank_map = None):\n",
    "    global P\n",
    "    if rank_map == None:\n",
    "        rank_map = {i:i for i in range(P)}\n",
    "    \n",
    "    Algorithm = {}\n",
    "    F = open(filepath,'r')\n",
    "    FC = csv.reader(F)\n",
    "    for line in FC:\n",
    "        if line[0][0] == '@':         # @ node\n",
    "            rank = rank_map[(int)(line[0][1:])]\n",
    "            Algorithm[rank] = []   # add node\n",
    "            i = 1\n",
    "            while i < len(line):\n",
    "                if line[i] == 'C': # Compute\n",
    "                    Vol = (int)(line[i+1])*\\\n",
    "                          (int)(line[i+2])*\\\n",
    "                          (int)(line[i+3])\n",
    "                    Algorithm[rank].append(('C',Vol))\n",
    "                    i += 3\n",
    "                elif line[i] == 'S': # Compute\n",
    "                    Area = (int)(line[i+2])*(int)(line[i+3])\n",
    "                    Algorithm[rank].append(('S',rank_map[(int)(line[i+1])],Area))\n",
    "                    i += 3\n",
    "                elif line[i] == 'R': # Compute\n",
    "                    Area = (int)(line[i+2])*(int)(line[i+3])\n",
    "                    Algorithm[rank].append(('R',rank_map[(int)(line[i+1])],Area))\n",
    "                    i += 3\n",
    "                    \n",
    "                    \n",
    "                i += 1\n",
    "    F.close()            \n",
    "    return Algorithm"
   ]
  },
  {
   "cell_type": "code",
   "execution_count": 19,
   "metadata": {},
   "outputs": [],
   "source": [
    "def Route_On_Static(Sender,Reciever,RTable,status,area):\n",
    "    Act_to_Add = {p:[] for p in range(len(status))}\n",
    "    Route = RTable[(Sender,Reciever)]\n",
    "    \n",
    "    # Sequencial\n",
    "    prev = Sender\n",
    "    for p in Route:\n",
    "        # Waiting Time\n",
    "        # update status\n",
    "        if status[p] > status[prev]:\n",
    "            Act_to_Add[prev].append(('W',status[p]-status[prev]))\n",
    "            status[prev] = status[p]\n",
    "        elif status[p] < status[prev]:\n",
    "            Act_to_Add[p].append(('W',status[prev]-status[p]))\n",
    "            status[p] = status[prev]\n",
    "        \n",
    "        # Comm Time\n",
    "        Act_to_Add[prev].append(('S',area))\n",
    "        Act_to_Add[p].append(('R',area))\n",
    "        status[p] += area\n",
    "        status[prev] += area\n",
    "        \n",
    "        # next pair\n",
    "        prev = copy(p)\n",
    "\n",
    "    return Act_to_Add"
   ]
  },
  {
   "cell_type": "code",
   "execution_count": 20,
   "metadata": {},
   "outputs": [],
   "source": [
    "def Real_Routine(Raw_Route,Adj_M):\n",
    "    # get num of actions vs each node\n",
    "    Total_P = len(Raw_Route)\n",
    "\n",
    "    lengths = np.zeros(Total_P,dtype='int32')\n",
    "\n",
    "    for r,line in Raw_Route.items():\n",
    "        lengths[r] = len(line)\n",
    "\n",
    "    # Result\n",
    "    Routine = {i:[] for i in range(Total_P)}\n",
    "    # Nodes Status\n",
    "    # 0:idle >0:length of queue\n",
    "    Status = np.zeros(Total_P,dtype='int64')\n",
    "    \n",
    "        \n",
    "    # BFS\n",
    "    p = 0\n",
    "    process = np.zeros(Total_P,dtype='int32')\n",
    "    while True:\n",
    "        # Finished\n",
    "        if np.max(np.abs(lengths-process)) == 0:\n",
    "            return Routine\n",
    "        # finished nodes\n",
    "        if lengths[p] == process[p]:\n",
    "            p = (p+1)%Total_P\n",
    "            continue\n",
    "        \n",
    "        Action = Raw_Route[p][process[p]]\n",
    "        \n",
    "        # overhead\n",
    "        global SRTable\n",
    "        Status -= np.min(Status)  # processing\n",
    "\n",
    "        if Action[0] == 'C':      # Computation\n",
    "            Routine[p].append(Action)\n",
    "            # add queue\n",
    "            Status[p] += Action[-1]\n",
    "        elif Action[0] == 'S':    # Send\n",
    "            Acts = Route_On_Static(p,Action[1],SRTable,Status,Action[-1])\n",
    "\n",
    "            for pp,act in Acts.items():\n",
    "                Routine[pp] += act\n",
    "            \n",
    "        #elif Action[0] == 'R':    # Recieve\n",
    "        #    pass # done by sender\n",
    "            \n",
    "        \n",
    "        \n",
    "        # Update\n",
    "        process[p] += 1\n",
    "        p = (p+1)%Total_P\n",
    "   \n",
    "    return Routine"
   ]
  },
  {
   "cell_type": "code",
   "execution_count": 21,
   "metadata": {},
   "outputs": [],
   "source": [
    "def get_Longest(Routes):\n",
    "    Total_P = len(Routes)\n",
    "    x_max = 0\n",
    "    for p in range(Total_P):\n",
    "        m_xmax = 0\n",
    "        for act in Routes[p]:\n",
    "            m_xmax += act[1]\n",
    "        if m_xmax > x_max:\n",
    "            x_max = m_xmax\n",
    "    return x_max"
   ]
  },
  {
   "cell_type": "code",
   "execution_count": 22,
   "metadata": {},
   "outputs": [],
   "source": [
    "def Get_Saturability_Seq(Route_Tensor, Comm_M, MAP):\n",
    "    global P\n",
    "    Ser = np.zeros(P,dtype='int16')\n",
    "    i = 0\n",
    "    for z in range(P):\n",
    "        Ser[MAP[i]] = np.sum(Route_Tensor[:,:,z]*Comm_M)\n",
    "        i += 1\n",
    "    return Ser"
   ]
  },
  {
   "cell_type": "code",
   "execution_count": 23,
   "metadata": {},
   "outputs": [],
   "source": [
    "def get_RoutineTensor(file_path):\n",
    "    global P\n",
    "    Tensor = np.zeros([P,P,P],dtype = 'int16')\n",
    "    F = open(file_path,'r')\n",
    "    FC = csv.reader(F)\n",
    "    Table = {}\n",
    "    \n",
    "    for line in FC:\n",
    "        l,r = line[0].split('|')\n",
    "        ind = 1\n",
    "        for ele in line[2:]:\n",
    "            Tensor[(int)(l)][(int)(r)][(int)(ele)] = ind\n",
    "            ind += 1\n",
    "    \n",
    "    F.close()\n",
    "    \n",
    "    return Tensor"
   ]
  },
  {
   "cell_type": "code",
   "execution_count": 24,
   "metadata": {},
   "outputs": [],
   "source": [
    "def switch_nodes(M,_Map = None):\n",
    "    if not _Map:\n",
    "        _Map = {i:i for i in range(M.shape[0])}\n",
    "    Res = copy(M)\n",
    "    for src,to in _Map.items():\n",
    "        Res[to,:] = M[src,:]\n",
    "    Res1 = copy(Res)\n",
    "    for src,to in _Map.items():\n",
    "        Res1[:,to] = Res[:,src]\n",
    "    return Res1"
   ]
  },
  {
   "cell_type": "code",
   "execution_count": 25,
   "metadata": {},
   "outputs": [],
   "source": [
    "Routint_Tensor = get_RoutineTensor('topology/16k3wheel_Static.srt')"
   ]
  },
  {
   "cell_type": "code",
   "execution_count": 26,
   "metadata": {},
   "outputs": [],
   "source": [
    "def Extract_cycles(filepath, rank_map = None):\n",
    "    global P\n",
    "    \n",
    "    if rank_map == None:\n",
    "        rank_map = {i:i for i in range(P)}\n",
    "        \n",
    "    Ideal = np.zeros([P,P],dtype='int16')\n",
    "    F = open(filepath,'r')\n",
    "    FC = csv.reader(F)\n",
    "    for line in FC:\n",
    "        At = rank_map[(int)(line[0][1:])]\n",
    "        ind = 1\n",
    "        for ele in line[1:]:\n",
    "            if ele == 'S':\n",
    "                Ideal[At][rank_map[(int)(line[ind+1])]] += 1\n",
    "                Ideal[rank_map[(int)(line[ind+1])]][At] += 1\n",
    "            ind += 1\n",
    "            \n",
    "    return Ideal"
   ]
  },
  {
   "cell_type": "code",
   "execution_count": 27,
   "metadata": {},
   "outputs": [],
   "source": [
    "Unmap_Routine = Extract_cycles('BAMMA/P16_Fox441.csv')"
   ]
  },
  {
   "cell_type": "code",
   "execution_count": 28,
   "metadata": {},
   "outputs": [],
   "source": [
    "def Get_ADJ(file_path):\n",
    "    F = pd.read_csv(file_path, delimiter = ' ', header = None)\n",
    "    return (F.values).astype('float32')\n",
    "\n",
    "def Get_Static_Table(file_path):\n",
    "    F = open(file_path,'r')\n",
    "    FC = csv.reader(F)\n",
    "    Table = {}\n",
    "    \n",
    "    for line in FC:\n",
    "        l,r = line[0].split('|')\n",
    "        seq = []\n",
    "        for ele in line[2:]:\n",
    "            seq.append((int)(ele))\n",
    "            \n",
    "        Table[((int)(l),(int)(r))] = seq\n",
    "    \n",
    "    F.close()\n",
    "    \n",
    "    return Table"
   ]
  },
  {
   "cell_type": "code",
   "execution_count": 29,
   "metadata": {},
   "outputs": [],
   "source": [
    "Target_Topology = '16k3wheel'\n",
    "\n",
    "Adj = Get_ADJ('topology/%s.adj'%Target_Topology)\n",
    "SRTable = Get_Static_Table('topology/%s_Static.srt'%Target_Topology)"
   ]
  },
  {
   "cell_type": "code",
   "execution_count": 46,
   "metadata": {},
   "outputs": [],
   "source": [
    "Test_D = []\n",
    "TT = 0\n",
    "for T in range(50):\n",
    "    rand_series = np.random.permutation(np.arange(P))\n",
    "    random_map = {i:rand_series[i] for i in range(P)}\n",
    "    #random_map = Shuffle_with_Center(Center,Leaf)\n",
    "    New_M = switch_nodes(Unmap_Routine,random_map)\n",
    "    Ser = Get_Saturability_Seq(Routint_Tensor,New_M,random_map)\n",
    "    T_Routine = get_BAMMA('BAMMA/P16_Fox441.csv',rank_map=random_map)\n",
    "    m_time = get_Longest(Real_Routine(T_Routine,Adj))\n",
    "    \n",
    "    pred = sess.run(y_out,feed_dict = {\n",
    "        Input:[Ser/342.0]\n",
    "    })\n",
    "    Test_D.append((Ser,pred,m_time))\n",
    "    if T > TT + 99:\n",
    "        print(T)\n",
    "        TT = T"
   ]
  },
  {
   "cell_type": "code",
   "execution_count": 32,
   "metadata": {},
   "outputs": [],
   "source": [
    "from matplotlib import pyplot as plt"
   ]
  },
  {
   "cell_type": "code",
   "execution_count": 47,
   "metadata": {},
   "outputs": [],
   "source": [
    "XY = []\n",
    "for d in Test_D:\n",
    "    XY.append([d[1][0][0],d[2]])\n",
    "XY = np.array(XY)"
   ]
  },
  {
   "cell_type": "code",
   "execution_count": 49,
   "metadata": {},
   "outputs": [
    {
     "data": {
      "image/png": "[encoded data removed]",
      "text/plain": [
       "<Figure size 720x720 with 1 Axes>"
      ]
     },
     "metadata": {},
     "output_type": "display_data"
    }
   ],
   "source": [
    "fig1 = plt.figure(figsize=[10,10])\n",
    "\n",
    "\n",
    "plt.plot(np.arange(len(Test_D)),(XY[:,1]-1e6)/(2224128.0-1e6),'r--')\n",
    "plt.plot(np.arange(len(Test_D)),XY[:,0],'b-')\n",
    "\n",
    "plt.xticks(color='white')\n",
    "plt.yticks(color='white')\n",
    "plt.show()"
   ]
  },
  {
   "cell_type": "code",
   "execution_count": null,
   "metadata": {},
   "outputs": [],
   "source": []
  }
 ],
 "metadata": {
  "kernelspec": {
   "display_name": "Python 3",
   "language": "python",
   "name": "python3"
  },
  "language_info": {
   "codemirror_mode": {
    "name": "ipython",
    "version": 3
   },
   "file_extension": ".py",
   "mimetype": "text/x-python",
   "name": "python",
   "nbconvert_exporter": "python",
   "pygments_lexer": "ipython3",
   "version": "3.6.3"
  }
 },
 "nbformat": 4,
 "nbformat_minor": 2
}
