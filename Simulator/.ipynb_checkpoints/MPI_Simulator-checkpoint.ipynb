{
 "cells": [
  {
   "cell_type": "code",
   "execution_count": 2,
   "metadata": {},
   "outputs": [],
   "source": [
    "import numpy as np\n",
    "import pandas as pd\n",
    "from matplotlib import pyplot as plt\n"
   ]
  },
  {
   "cell_type": "code",
   "execution_count": 9,
   "metadata": {},
   "outputs": [],
   "source": [
    "P = 16"
   ]
  },
  {
   "cell_type": "code",
   "execution_count": 3,
   "metadata": {},
   "outputs": [],
   "source": [
    "def print_mat(MAT, Format = '%.0f '):\n",
    "    for r in MAT:\n",
    "        Line = ''\n",
    "        for c in r:     \n",
    "            Line += (Format%(c))  \n",
    "        print(Line)"
   ]
  },
  {
   "cell_type": "code",
   "execution_count": 26,
   "metadata": {},
   "outputs": [],
   "source": [
    "def Draw_mat(M, colorbar=False,Figsize = [5,5],title = None):\n",
    "    global P\n",
    "    plt.figure(figsize = Figsize)\n",
    "    \n",
    "    for i in np.arange(0.5,P-1,1.0):\n",
    "        plt.axhline(y=i, xmin=-0.5, xmax=P-0.5, linewidth=2, color=(0.5,0.5,0.5))\n",
    "        plt.axvline(x=i, ymin=-0.5, ymax=P-0.5, linewidth=2, color=(0.5,0.5,0.5))\n",
    "    plt.imshow(M if colorbar else 1-M, cmap = plt.cm.hot, interpolation = 'nearest')\n",
    "    \n",
    "    plt.xticks(range(0,M.shape[1],4))\n",
    "    plt.yticks(range(0,M.shape[0],4))\n",
    "    \n",
    "    if title:\n",
    "        plt.title(title)\n",
    "    \n",
    "    if colorbar:\n",
    "        plt.colorbar(ticks=range((int)(np.max(M))+1), orientation='vertical')\n",
    "    \n",
    "    plt.show()\n",
    "                "
   ]
  },
  {
   "cell_type": "code",
   "execution_count": 5,
   "metadata": {},
   "outputs": [],
   "source": [
    "# Adjacency Matrix\n",
    "def Get_ADJ(file_path):\n",
    "    F = pd.read_csv(file_path, delimiter = ' ', header = None)\n",
    "    return (F.values).astype('float32')"
   ]
  },
  {
   "cell_type": "code",
   "execution_count": 6,
   "metadata": {},
   "outputs": [],
   "source": [
    "Adj = Get_ADJ('topology/16k3grid.adj')"
   ]
  },
  {
   "cell_type": "code",
   "execution_count": 28,
   "metadata": {},
   "outputs": [
    {
     "data": {
      "image/png": "[encoded data removed]",
      "text/plain": [
       "<matplotlib.figure.Figure at 0x1f6780da550>"
      ]
     },
     "metadata": {},
     "output_type": "display_data"
    }
   ],
   "source": [
    "Draw_mat(Adj)"
   ]
  },
  {
   "cell_type": "code",
   "execution_count": 10,
   "metadata": {
    "scrolled": true
   },
   "outputs": [],
   "source": [
    "I_P = np.identity(P)"
   ]
  },
  {
   "cell_type": "code",
   "execution_count": 11,
   "metadata": {},
   "outputs": [],
   "source": [
    "def smoothstep(x):\n",
    "    R,C = x.shape\n",
    "    for r in range(R):\n",
    "        for c in range(C):\n",
    "            if x[c][r] > 1:\n",
    "                x[c][r] = 1"
   ]
  },
  {
   "cell_type": "code",
   "execution_count": 12,
   "metadata": {},
   "outputs": [],
   "source": [
    "def Generate_RouteTree(A_now, D_now):\n",
    "    global I_P\n",
    "    D_next = np.matmul(I_P+Adj,D_now)\n",
    "    smoothstep(D_next)\n",
    "    return A_now, D_next"
   ]
  },
  {
   "cell_type": "code",
   "execution_count": 14,
   "metadata": {},
   "outputs": [],
   "source": [
    "from copy import copy"
   ]
  },
  {
   "cell_type": "code",
   "execution_count": 22,
   "metadata": {},
   "outputs": [],
   "source": [
    "A = copy(Adj)\n",
    "step = 0\n",
    "D = np.identity(P)\n",
    "Routines = []\n",
    "\n",
    "while (np.min(D) == 0):\n",
    "    A,D_N = Generate_RouteTree(A,D)\n",
    "    Routines.append(np.transpose(D_N - D))\n",
    "    D = D_N\n",
    "    step += 1"
   ]
  },
  {
   "cell_type": "code",
   "execution_count": 27,
   "metadata": {},
   "outputs": [
    {
     "data": {
      "image/png": "[encoded data removed]",
      "text/plain": [
       "<matplotlib.figure.Figure at 0x1f67f4017f0>"
      ]
     },
     "metadata": {},
     "output_type": "display_data"
    },
    {
     "data": {
      "image/png": "[encoded data removed]",
      "text/plain": [
       "<matplotlib.figure.Figure at 0x1f67f43c860>"
      ]
     },
     "metadata": {},
     "output_type": "display_data"
    },
    {
     "data": {
      "image/png": "[encoded data removed]",
      "text/plain": [
       "<matplotlib.figure.Figure at 0x1f67f4d9780>"
      ]
     },
     "metadata": {},
     "output_type": "display_data"
    },
    {
     "data": {
      "image/png": "[encoded data removed]",
      "text/plain": [
       "<matplotlib.figure.Figure at 0x1f67f574780>"
      ]
     },
     "metadata": {},
     "output_type": "display_data"
    },
    {
     "data": {
      "image/png": "[encoded data removed]",
      "text/plain": [
       "<matplotlib.figure.Figure at 0x1f67f409b38>"
      ]
     },
     "metadata": {},
     "output_type": "display_data"
    }
   ],
   "source": [
    "s = 1\n",
    "for M in Routines:\n",
    "    Draw_mat(M,Figsize=[3,3],title='<dist = %i>'%s)\n",
    "    s += 1"
   ]
  },
  {
   "cell_type": "code",
   "execution_count": 29,
   "metadata": {},
   "outputs": [],
   "source": [
    "import csv"
   ]
  },
  {
   "cell_type": "code",
   "execution_count": 31,
   "metadata": {},
   "outputs": [],
   "source": [
    "def get_BAMMA(filepath):\n",
    "    Algorithm = {}\n",
    "    F = open(filepath,'r')\n",
    "    FC = csv.reader(F)\n",
    "    for line in FC:\n",
    "        if line[0][0] == '@':         # @ node\n",
    "            rank = (int)(line[0][1:])\n",
    "            Algorithm[rank] = []   # add node\n",
    "            i = 1\n",
    "            while i < len(line):\n",
    "                if line[i] == 'C': # Compute\n",
    "                    Vol = (int)(line[i+1])*\\\n",
    "                          (int)(line[i+2])*\\\n",
    "                          (int)(line[i+3])\n",
    "                    Algorithm[rank].append(('C',Vol))\n",
    "                    i += 3\n",
    "                elif line[i] == 'S': # Compute\n",
    "                    Area = (int)(line[i+2])*(int)(line[i+3])\n",
    "                    Algorithm[rank].append(('S',(int)(line[i+1]),Area))\n",
    "                    i += 3\n",
    "                elif line[i] == 'R': # Compute\n",
    "                    Area = (int)(line[i+2])*(int)(line[i+3])\n",
    "                    Algorithm[rank].append(('R',(int)(line[i+1]),Area))\n",
    "                    i += 3\n",
    "                    \n",
    "                    \n",
    "                i += 1\n",
    "    F.close()            \n",
    "    return Algorithm\n",
    "                "
   ]
  },
  {
   "cell_type": "code",
   "execution_count": 33,
   "metadata": {},
   "outputs": [],
   "source": [
    "Routine = get_BAMMA('BAMMA/P16_Cannon.csv')"
   ]
  },
  {
   "cell_type": "code",
   "execution_count": 34,
   "metadata": {},
   "outputs": [],
   "source": [
    "from collections import namedtuple as Ntuple"
   ]
  },
  {
   "cell_type": "code",
   "execution_count": 35,
   "metadata": {},
   "outputs": [],
   "source": [
    "route_unit = Ntuple('route_unit',['type','value'])"
   ]
  },
  {
   "cell_type": "code",
   "execution_count": 36,
   "metadata": {},
   "outputs": [],
   "source": [
    "def find_act_comm(Sender,Reciever,adj_M,status,static_Route = None):\n",
    "    pass"
   ]
  },
  {
   "cell_type": "code",
   "execution_count": 73,
   "metadata": {},
   "outputs": [],
   "source": [
    "def Real_Routine(Raw_Route,Adj_M):\n",
    "    # get num of actions vs each node\n",
    "    Total_P = len(Raw_Route)\n",
    "    lengths = np.zeros(Total_P,dtype='int32')\n",
    "    p = 0\n",
    "    for line in Raw_Route.values():\n",
    "        lengths[p] = len(line)\n",
    "        p += 1\n",
    "    # Result\n",
    "    Routine = {i:[] for i in range(Total_P)}\n",
    "    # Nodes Status\n",
    "    # 0:idle >0:length of queue\n",
    "    Status = np.zeros(Total_P,dtype='int32')\n",
    "    \n",
    "        \n",
    "    # BFS\n",
    "    p = 0\n",
    "    process = np.zeros(Total_P,dtype='int32')\n",
    "    while True:\n",
    "        Action = Raw_Route[p][process[p]]\n",
    "        \n",
    "        # overhead\n",
    "        Status -= np.min(Status)\n",
    "\n",
    "        if Action[0] == 'C':     # Computation\n",
    "            Routine[p].append(Action)\n",
    "        elif Action[0] == 'S':   # Send\n",
    "            #L = find_act_comm(p,Action[1],Adj_M,Status)\n",
    "            Routine[p].append((Action[0],Action[-1]))\n",
    "        elif Action[0] == 'R':   # Recieve\n",
    "            #L = find_act_comm(Action[1],p,Adj_M,Status)\n",
    "            Routine[p].append((Action[0],Action[-1]))\n",
    "            \n",
    "        # add queue\n",
    "        Status[p] += Action[-1]\n",
    "        \n",
    "        # Update\n",
    "        process[p] += 1\n",
    "        p = (p+1)%Total_P\n",
    "        \n",
    "        # Finished\n",
    "        if np.max(np.abs(lengths-process)) == 0:\n",
    "            return Routine\n",
    "        \n",
    "    return Routine"
   ]
  },
  {
   "cell_type": "code",
   "execution_count": 46,
   "metadata": {},
   "outputs": [],
   "source": [
    "# map_rank\n",
    "def swap_row(M,r1,r2):\n",
    "    temp_r = M[r2,:]\n",
    "    M[r2,:] = M[r1,:]\n",
    "    M[r1,:] = temp_r\n",
    "    \n",
    "def swap_col(M,c1,c2):\n",
    "    temp_c = M[:,c2]\n",
    "    M[:,c2] = M[:,c1]\n",
    "    M[:,c1] = temp_c\n",
    "\n",
    "def map_ranks(Adj_M,Map):\n",
    "    new_Adj = copy(Adj_M)\n",
    "    for f,t in Map.items:\n",
    "        swap_row(new_Adj,f,t)\n",
    "        swap_col(new_Adj,f,t)\n",
    "        "
   ]
  },
  {
   "cell_type": "markdown",
   "metadata": {},
   "source": [
    "# Draw squares"
   ]
  },
  {
   "cell_type": "code",
   "execution_count": 89,
   "metadata": {},
   "outputs": [],
   "source": [
    "from matplotlib import patches"
   ]
  },
  {
   "cell_type": "code",
   "execution_count": 84,
   "metadata": {},
   "outputs": [],
   "source": [
    "Color_Table = {\n",
    "    'C':[0,1,0,1],\n",
    "    'S':[1,0,0,1],\n",
    "    'R':[1,1,0,1],\n",
    "    'W':[0.3,0.3,0.3]\n",
    "}"
   ]
  },
  {
   "cell_type": "code",
   "execution_count": 138,
   "metadata": {},
   "outputs": [],
   "source": [
    "def Draw_Route_Table(Routes,title=None):\n",
    "    global Color_Table\n",
    "    Total_P = len(Routes)\n",
    "    Fig1 = plt.figure(figsize=[10,10])\n",
    "    ax = plt.subplot(111)\n",
    "    # comp:green | send:red | recv:orange | idle:gray\n",
    "    x_max = 0\n",
    "    for p in range(Total_P):\n",
    "        x = 0\n",
    "        m_xmax = 0\n",
    "        for act in Routes[p]:\n",
    "            ax.add_patch(\n",
    "                patches.Rectangle((x,p-0.2),act[1],0.4,\n",
    "                                  fill=True,\n",
    "                                  ec=None,\n",
    "                                  fc=Color_Table[act[0]])\n",
    "            )\n",
    "            x += act[1]\n",
    "            m_xmax += act[1]\n",
    "        if m_xmax > x_max:\n",
    "            x_max = m_xmax\n",
    "            \n",
    "            \n",
    "    plt.xticks(range(0,x_max,(int)(x_max/10)))  \n",
    "    plt.yticks(range(Total_P))\n",
    "    plt.axis([0,x_max,-0.5,Total_P-0.5])\n",
    "    \n",
    "    # legends\n",
    "    legends = [\n",
    "        patches.Patch(color='green', label='Computation'),\n",
    "        patches.Patch(color='red', label='Send'),\n",
    "        patches.Patch(color='yellow', label='Recieve'),\n",
    "        patches.Patch(color='gray', label='Idle/Wait')\n",
    "    ]\n",
    "    \n",
    "    plt.legend(handles=legends,\n",
    "               loc='center left', \n",
    "               bbox_to_anchor=(1.02, 0.75))\n",
    "    if title:\n",
    "        plt.title(title)\n",
    "    \n",
    "    plt.show()"
   ]
  },
  {
   "cell_type": "code",
   "execution_count": 106,
   "metadata": {},
   "outputs": [],
   "source": [
    "RR = Real_Routine(Routine,Adj)"
   ]
  },
  {
   "cell_type": "code",
   "execution_count": 139,
   "metadata": {},
   "outputs": [
    {
     "data": {
      "image/png": "[encoded data removed]",
      "text/plain": [
       "<matplotlib.figure.Figure at 0x1f6036e5630>"
      ]
     },
     "metadata": {},
     "output_type": "display_data"
    }
   ],
   "source": [
    "Draw_Route_Table(RR)"
   ]
  },
  {
   "cell_type": "code",
   "execution_count": null,
   "metadata": {},
   "outputs": [],
   "source": []
  }
 ],
 "metadata": {
  "kernelspec": {
   "display_name": "Python 3",
   "language": "python",
   "name": "python3"
  },
  "language_info": {
   "codemirror_mode": {
    "name": "ipython",
    "version": 3
   },
   "file_extension": ".py",
   "mimetype": "text/x-python",
   "name": "python",
   "nbconvert_exporter": "python",
   "pygments_lexer": "ipython3",
   "version": "3.6.3"
  }
 },
 "nbformat": 4,
 "nbformat_minor": 2
}
