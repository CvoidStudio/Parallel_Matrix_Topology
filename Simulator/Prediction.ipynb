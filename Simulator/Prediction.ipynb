{
 "cells": [
  {
   "cell_type": "code",
   "execution_count": 1,
   "metadata": {},
   "outputs": [],
   "source": [
    "import numpy as np\n",
    "import pandas as pd\n",
    "from matplotlib import pyplot as plt\n",
    "import csv\n",
    "from copy import copy"
   ]
  },
  {
   "cell_type": "code",
   "execution_count": 2,
   "metadata": {},
   "outputs": [],
   "source": [
    "P = 16"
   ]
  },
  {
   "cell_type": "code",
   "execution_count": 3,
   "metadata": {},
   "outputs": [],
   "source": [
    "def print_mat(MAT, Format = '%.0f '):\n",
    "    for r in MAT:\n",
    "        Line = ''\n",
    "        for c in r:     \n",
    "            Line += (Format%(c))  \n",
    "        print(Line)\n",
    "\n",
    "def Draw_mat(M, colorbar=False,Figsize = [5,5],title = None,Color=[1,1,1,1]):\n",
    "    global P\n",
    "    plt.figure(figsize = Figsize)\n",
    "    \n",
    "    for i in np.arange(0.5,P-1,1.0):\n",
    "        plt.axhline(y=i, xmin=-0.5, xmax=P-0.5, linewidth=2, color=(0.5,0.5,0.5))\n",
    "        plt.axvline(x=i, ymin=-0.5, ymax=P-0.5, linewidth=2, color=(0.5,0.5,0.5))\n",
    "    plt.imshow(M if colorbar else 1-M, cmap = plt.cm.hot, interpolation = 'nearest')\n",
    "    \n",
    "    plt.xticks(range(0,M.shape[1],4),color=Color)\n",
    "    plt.yticks(range(0,M.shape[0],4),color=Color)\n",
    "    plt.tick_params(axis='x', colors=Color)\n",
    "    plt.tick_params(axis='y', colors=Color)\n",
    "    \n",
    "    if title:\n",
    "        plt.title(title,color=Color)\n",
    "    \n",
    "    if colorbar:\n",
    "        plt.colorbar(ticks=range((int)(np.max(M))+1), orientation='vertical')\n",
    "    \n",
    "    plt.show()"
   ]
  },
  {
   "cell_type": "code",
   "execution_count": 4,
   "metadata": {},
   "outputs": [],
   "source": [
    "def Get_ADJ(file_path):\n",
    "    F = pd.read_csv(file_path, delimiter = ' ', header = None)\n",
    "    return (F.values).astype('float32')\n",
    "\n",
    "def Get_Static_Table(file_path):\n",
    "    F = open(file_path,'r')\n",
    "    FC = csv.reader(F)\n",
    "    Table = {}\n",
    "    \n",
    "    for line in FC:\n",
    "        l,r = line[0].split('|')\n",
    "        seq = []\n",
    "        for ele in line[2:]:\n",
    "            seq.append((int)(ele))\n",
    "            \n",
    "        Table[((int)(l),(int)(r))] = seq\n",
    "    \n",
    "    F.close()\n",
    "    \n",
    "    return Table"
   ]
  },
  {
   "cell_type": "code",
   "execution_count": 111,
   "metadata": {},
   "outputs": [],
   "source": [
    "Target_Topology = '16k3grid'\n",
    "\n",
    "Adj = Get_ADJ('topology/%s.adj'%Target_Topology)\n",
    "SRTable = Get_Static_Table('topology/%s_Static.srt'%Target_Topology)"
   ]
  },
  {
   "cell_type": "code",
   "execution_count": 6,
   "metadata": {},
   "outputs": [
    {
     "data": {
      "image/png": "[encoded data removed]",
      "text/plain": [
       "<Figure size 360x360 with 1 Axes>"
      ]
     },
     "metadata": {},
     "output_type": "display_data"
    }
   ],
   "source": [
    "Draw_mat(Adj)"
   ]
  },
  {
   "cell_type": "markdown",
   "metadata": {},
   "source": [
    "# Distance Matrix"
   ]
  },
  {
   "cell_type": "code",
   "execution_count": 7,
   "metadata": {},
   "outputs": [],
   "source": [
    "I_P = np.identity(P)"
   ]
  },
  {
   "cell_type": "code",
   "execution_count": 8,
   "metadata": {},
   "outputs": [],
   "source": [
    "def smoothstep(x):\n",
    "    R,C = x.shape\n",
    "    for r in range(R):\n",
    "        for c in range(C):\n",
    "            if x[c][r] > 1:\n",
    "                x[c][r] = 1\n",
    "                \n",
    "def Generate_RouteTree(A_now, D_now):\n",
    "    global I_P\n",
    "    D_next = np.matmul(I_P+Adj,D_now)\n",
    "    smoothstep(D_next)\n",
    "    return A_now, D_next"
   ]
  },
  {
   "cell_type": "code",
   "execution_count": 9,
   "metadata": {},
   "outputs": [],
   "source": [
    "A = copy(Adj)\n",
    "step = 0\n",
    "D = np.identity(P)\n",
    "Routines = []\n",
    "DIST_M = np.zeros([P,P],dtype='int16')\n",
    "while (np.min(D) == 0):\n",
    "    A,D_N = Generate_RouteTree(A,D)\n",
    "    Routines.append(np.transpose(D_N - D))\n",
    "    step += 1\n",
    "    DIST_M += step*(D_N - D).astype('int16')\n",
    "    D = D_N"
   ]
  },
  {
   "cell_type": "code",
   "execution_count": 10,
   "metadata": {},
   "outputs": [
    {
     "data": {
      "image/png": "[encoded data removed]",
      "text/plain": [
       "<Figure size 360x360 with 2 Axes>"
      ]
     },
     "metadata": {},
     "output_type": "display_data"
    }
   ],
   "source": [
    "Draw_mat(DIST_M,colorbar=True,Figsize=[5,5],title='distance matrix')"
   ]
  },
  {
   "cell_type": "markdown",
   "metadata": {},
   "source": [
    "# Find Routine"
   ]
  },
  {
   "cell_type": "code",
   "execution_count": 11,
   "metadata": {},
   "outputs": [],
   "source": [
    "import csv"
   ]
  },
  {
   "cell_type": "code",
   "execution_count": 12,
   "metadata": {},
   "outputs": [],
   "source": [
    "def get_BAMMA(filepath, rank_map = None):\n",
    "    global P\n",
    "    if rank_map == None:\n",
    "        rank_map = {i:i for i in range(P)}\n",
    "    \n",
    "    Algorithm = {}\n",
    "    F = open(filepath,'r')\n",
    "    FC = csv.reader(F)\n",
    "    for line in FC:\n",
    "        if line[0][0] == '@':         # @ node\n",
    "            rank = rank_map[(int)(line[0][1:])]\n",
    "            Algorithm[rank] = []   # add node\n",
    "            i = 1\n",
    "            while i < len(line):\n",
    "                if line[i] == 'C': # Compute\n",
    "                    Vol = (int)(line[i+1])*\\\n",
    "                          (int)(line[i+2])*\\\n",
    "                          (int)(line[i+3])\n",
    "                    Algorithm[rank].append(('C',Vol))\n",
    "                    i += 3\n",
    "                elif line[i] == 'S': # Compute\n",
    "                    Area = (int)(line[i+2])*(int)(line[i+3])\n",
    "                    Algorithm[rank].append(('S',rank_map[(int)(line[i+1])],Area))\n",
    "                    i += 3\n",
    "                elif line[i] == 'R': # Compute\n",
    "                    Area = (int)(line[i+2])*(int)(line[i+3])\n",
    "                    Algorithm[rank].append(('R',rank_map[(int)(line[i+1])],Area))\n",
    "                    i += 3\n",
    "                    \n",
    "                    \n",
    "                i += 1\n",
    "    F.close()            \n",
    "    return Algorithm"
   ]
  },
  {
   "cell_type": "code",
   "execution_count": 13,
   "metadata": {},
   "outputs": [],
   "source": [
    "def Extract_cycles(filepath, rank_map = None):\n",
    "    global P\n",
    "    \n",
    "    if rank_map == None:\n",
    "        rank_map = {i:i for i in range(P)}\n",
    "        \n",
    "    Ideal = np.zeros([P,P],dtype='int16')\n",
    "    F = open(filepath,'r')\n",
    "    FC = csv.reader(F)\n",
    "    for line in FC:\n",
    "        At = rank_map[(int)(line[0][1:])]\n",
    "        ind = 1\n",
    "        for ele in line[1:]:\n",
    "            if ele == 'S':\n",
    "                Ideal[At][rank_map[(int)(line[ind+1])]] += 1\n",
    "                Ideal[rank_map[(int)(line[ind+1])]][At] += 1\n",
    "            ind += 1\n",
    "            \n",
    "    return Ideal"
   ]
  },
  {
   "cell_type": "code",
   "execution_count": 14,
   "metadata": {},
   "outputs": [],
   "source": [
    "def Get_Loss(Res_M, Alg_M):\n",
    "    Loss_M = Res_M * (Alg_M>0).astype('int16')\n",
    "    return np.max(Loss_M), np.mean(Loss_M**5)"
   ]
  },
  {
   "cell_type": "code",
   "execution_count": 15,
   "metadata": {},
   "outputs": [],
   "source": [
    "def switch_nodes(M,_Map = None):\n",
    "    if not _Map:\n",
    "        _Map = {i:i for i in range(M.shape[0])}\n",
    "    Res = copy(M)\n",
    "    for src,to in _Map.items():\n",
    "        Res[to,:] = M[src,:]\n",
    "    Res1 = copy(Res)\n",
    "    for src,to in _Map.items():\n",
    "        Res1[:,to] = Res[:,src]\n",
    "    return Res1"
   ]
  },
  {
   "cell_type": "code",
   "execution_count": 16,
   "metadata": {},
   "outputs": [],
   "source": [
    "def Get_Exchange(Map):\n",
    "    E_M = np.zeros([len(Map),len(Map)])\n",
    "    for i in range(len(Map)):\n",
    "        E_M[i][Map[i]] = 1\n",
    "        E_M[Map[i]][i] = 1\n",
    "    return E_M\n",
    "\n",
    "def get_OptMap(Topo_M,Alg_M):\n",
    "    P_ = Topo_M.shape[0]\n",
    "    E = np.identity(P_)\n",
    "    \n",
    "    eigval_T,eigvec_T = np.linalg.eig(Topo_M)\n",
    "    eigval_A,eigvec_A = np.linalg.eig(Alg_M)\n",
    "    \n",
    "    weight_T = np.sqrt(np.abs(eigval_T))*np.transpose(eigvec_T)\n",
    "    weight_A = np.sqrt(np.abs(eigval_A))*np.transpose(eigvec_A)\n",
    "    \n",
    "    DDM = np.zeros([P_,P_])\n",
    "    for i in range(P_):\n",
    "        for j in range(P_):\n",
    "            DDM[i,j] = np.linalg.norm(weight_T[:,i]-weight_A[:,j])\n",
    "            \n",
    "    \n",
    "    Map = {i:i for i in range(P_)}\n",
    "    Loss = 1\n",
    "    return Map,Loss"
   ]
  },
  {
   "cell_type": "markdown",
   "metadata": {},
   "source": [
    "# Static Routine"
   ]
  },
  {
   "cell_type": "code",
   "execution_count": 17,
   "metadata": {},
   "outputs": [],
   "source": [
    "def Route_On_Static(Sender,Reciever,RTable,status,area):\n",
    "    Act_to_Add = {p:[] for p in range(len(status))}\n",
    "    Route = RTable[(Sender,Reciever)]\n",
    "    \n",
    "    # Sequencial\n",
    "    prev = Sender\n",
    "    for p in Route:\n",
    "        # Waiting Time\n",
    "        # update status\n",
    "        if status[p] > status[prev]:\n",
    "            Act_to_Add[prev].append(('W',status[p]-status[prev]))\n",
    "            status[prev] = status[p]\n",
    "        elif status[p] < status[prev]:\n",
    "            Act_to_Add[p].append(('W',status[prev]-status[p]))\n",
    "            status[p] = status[prev]\n",
    "        \n",
    "        # Comm Time\n",
    "        Act_to_Add[prev].append(('S',area))\n",
    "        Act_to_Add[p].append(('R',area))\n",
    "        status[p] += area\n",
    "        status[prev] += area\n",
    "        \n",
    "        # next pair\n",
    "        prev = copy(p)\n",
    "\n",
    "    return Act_to_Add"
   ]
  },
  {
   "cell_type": "code",
   "execution_count": 18,
   "metadata": {},
   "outputs": [],
   "source": [
    "def Real_Routine(Raw_Route,Adj_M):\n",
    "    # get num of actions vs each node\n",
    "    Total_P = len(Raw_Route)\n",
    "\n",
    "    lengths = np.zeros(Total_P,dtype='int32')\n",
    "\n",
    "    for r,line in Raw_Route.items():\n",
    "        lengths[r] = len(line)\n",
    "\n",
    "    # Result\n",
    "    Routine = {i:[] for i in range(Total_P)}\n",
    "    # Nodes Status\n",
    "    # 0:idle >0:length of queue\n",
    "    Status = np.zeros(Total_P,dtype='int64')\n",
    "    \n",
    "        \n",
    "    # BFS\n",
    "    p = 0\n",
    "    process = np.zeros(Total_P,dtype='int32')\n",
    "    while True:\n",
    "        # Finished\n",
    "        if np.max(np.abs(lengths-process)) == 0:\n",
    "            return Routine\n",
    "        # finished nodes\n",
    "        if lengths[p] == process[p]:\n",
    "            p = (p+1)%Total_P\n",
    "            continue\n",
    "        \n",
    "        Action = Raw_Route[p][process[p]]\n",
    "        \n",
    "        # overhead\n",
    "        global SRTable\n",
    "        Status -= np.min(Status)  # processing\n",
    "\n",
    "        if Action[0] == 'C':      # Computation\n",
    "            Routine[p].append(Action)\n",
    "            # add queue\n",
    "            Status[p] += Action[-1]\n",
    "        elif Action[0] == 'S':    # Send\n",
    "            Acts = Route_On_Static(p,Action[1],SRTable,Status,Action[-1])\n",
    "\n",
    "            for pp,act in Acts.items():\n",
    "                Routine[pp] += act\n",
    "            \n",
    "        #elif Action[0] == 'R':    # Recieve\n",
    "        #    pass # done by sender\n",
    "            \n",
    "        \n",
    "        \n",
    "        # Update\n",
    "        process[p] += 1\n",
    "        p = (p+1)%Total_P\n",
    "   \n",
    "    return Routine"
   ]
  },
  {
   "cell_type": "markdown",
   "metadata": {},
   "source": [
    "# Draw Table"
   ]
  },
  {
   "cell_type": "code",
   "execution_count": 19,
   "metadata": {},
   "outputs": [],
   "source": [
    "def get_Longest(Routes):\n",
    "    Total_P = len(Routes)\n",
    "    x_max = 0\n",
    "    for p in range(Total_P):\n",
    "        m_xmax = 0\n",
    "        for act in Routes[p]:\n",
    "            m_xmax += act[1]\n",
    "        if m_xmax > x_max:\n",
    "            x_max = m_xmax\n",
    "    return x_max"
   ]
  },
  {
   "cell_type": "code",
   "execution_count": 20,
   "metadata": {},
   "outputs": [],
   "source": [
    "Unmap_Routine = Extract_cycles('BAMMA/P16_Fox441.csv')"
   ]
  },
  {
   "cell_type": "markdown",
   "metadata": {},
   "source": [
    "# Routine Tensor"
   ]
  },
  {
   "cell_type": "code",
   "execution_count": 21,
   "metadata": {},
   "outputs": [],
   "source": [
    "from mpl_toolkits.mplot3d.axes3d import Axes3D, get_test_data\n",
    "from matplotlib import cm"
   ]
  },
  {
   "cell_type": "code",
   "execution_count": 22,
   "metadata": {},
   "outputs": [],
   "source": [
    "def get_RoutineTensor(file_path):\n",
    "    global P\n",
    "    Tensor = np.zeros([P,P,P],dtype = 'int16')\n",
    "    F = open(file_path,'r')\n",
    "    FC = csv.reader(F)\n",
    "    Table = {}\n",
    "    \n",
    "    for line in FC:\n",
    "        l,r = line[0].split('|')\n",
    "        ind = 1\n",
    "        for ele in line[2:]:\n",
    "            Tensor[(int)(l)][(int)(r)][(int)(ele)] = ind\n",
    "            ind += 1\n",
    "    \n",
    "    F.close()\n",
    "    \n",
    "    return Tensor"
   ]
  },
  {
   "cell_type": "code",
   "execution_count": 23,
   "metadata": {},
   "outputs": [],
   "source": [
    "Routint_Tensor = get_RoutineTensor('topology/%s_Static.srt'%Target_Topology)"
   ]
  },
  {
   "cell_type": "code",
   "execution_count": 24,
   "metadata": {},
   "outputs": [
    {
     "data": {
      "image/png": "[encoded data removed]",
      "text/plain": [
       "<Figure size 720x720 with 1 Axes>"
      ]
     },
     "metadata": {},
     "output_type": "display_data"
    }
   ],
   "source": [
    "Fig_Tensor = plt.figure(figsize=[10,10])\n",
    "ax = Fig_Tensor.add_subplot(1, 1, 1, projection='3d')\n",
    "\n",
    "x_val = []\n",
    "y_val = []\n",
    "z_val = []\n",
    "for i in range(P):\n",
    "    for j in range(P):\n",
    "        for k in range(P):\n",
    "            if Routint_Tensor[i][j][k] == 1:\n",
    "                x_val.append(i)\n",
    "                y_val.append(j)\n",
    "                z_val.append(k)\n",
    "#ax.scatter(np.arange(P),np.arange(P),np.arange(P),c = 'gray', marker='.')\n",
    "ax.scatter(x_val,y_val,z_val,c = 'r', marker='.')           \n",
    "ax.set_xlabel('X-axis')\n",
    "ax.set_ylabel('Y-axis')\n",
    "ax.set_zlabel('Z-axis')\n",
    "plt.title('Static Routine Tensor : %s'%Target_Topology)\n",
    "plt.show()"
   ]
  },
  {
   "cell_type": "code",
   "execution_count": 25,
   "metadata": {},
   "outputs": [],
   "source": [
    "def Get_Saturability(Route_Tensor, Comm_M):\n",
    "    global P\n",
    "    Ser = np.zeros(P,dtype='int16')\n",
    "    i = 0\n",
    "    for z in range(P):\n",
    "        Ser[i] = np.sum(Route_Tensor[:,:,z]*Comm_M)\n",
    "        i += 1\n",
    "    return Ser"
   ]
  },
  {
   "cell_type": "code",
   "execution_count": 26,
   "metadata": {},
   "outputs": [],
   "source": [
    "# fixed Center\n",
    "Center = {\n",
    "    0:0,\n",
    "    1:1,\n",
    "    2:9,\n",
    "    3:8,        \n",
    "    4:2,\n",
    "    5:3,\n",
    "    6:11,\n",
    "    7:10,\n",
    "    8:-1,\n",
    "    9:-1,\n",
    "    10:-1,\n",
    "    11:-1,\n",
    "    12:-1,\n",
    "    13:-1,\n",
    "    14:-1,\n",
    "    15:-1,\n",
    "}\n",
    "Leaf = []\n",
    "for i in range(P):\n",
    "    if i not in Center.values():\n",
    "        Leaf.append(i)"
   ]
  },
  {
   "cell_type": "code",
   "execution_count": 27,
   "metadata": {},
   "outputs": [],
   "source": [
    "def Shuffle_with_Center(center,leaf):\n",
    "    global P\n",
    "    new_center = copy(center)\n",
    "    np.random.shuffle(leaf)\n",
    "    ind = 0\n",
    "    for i in range(P):\n",
    "        if new_center[i] < 0:\n",
    "            new_center[i] = leaf[ind]\n",
    "            ind += 1\n",
    "    return new_center"
   ]
  },
  {
   "cell_type": "code",
   "execution_count": 28,
   "metadata": {},
   "outputs": [],
   "source": [
    "pairs = []\n",
    "TT = 0\n",
    "for T in range(0):\n",
    "    #rand_series = np.random.permutation(np.arange(P))\n",
    "    #random_map = {i:rand_series[i] for i in range(P)}\n",
    "    random_map = Shuffle_with_Center(Center,Leaf)\n",
    "    New_M = switch_nodes(Unmap_Routine,random_map)\n",
    "    Diam,mean_d = Get_Loss(DIST_M, New_M)\n",
    "    #Ser = Get_Saturability(Routint_Tensor,New_M)\n",
    "    ExM = Get_Exchange(Shuffle_with_Center(Center,Leaf))\n",
    "    T_Routine = get_BAMMA('BAMMA/P16_Fox441.csv',rank_map=random_map)\n",
    "    m_time = get_Longest(Real_Routine(T_Routine,Adj))\n",
    "    eigVal = np.linalg.eigvals(ExM)\n",
    "    #pairs.append((np.std(Ser,ddof=1),np.sum(Ser),m_time))\n",
    "    pairs.append((max(abs(eigVal)),min(eigVal),m_time))\n",
    "    if T > TT + 99:\n",
    "        print(T)\n",
    "        TT = T"
   ]
  },
  {
   "cell_type": "markdown",
   "metadata": {},
   "source": [
    "# Fetching Data"
   ]
  },
  {
   "cell_type": "code",
   "execution_count": 29,
   "metadata": {},
   "outputs": [],
   "source": [
    "def Get_Saturability_Seq(Route_Tensor, Comm_M, MAP):\n",
    "    global P\n",
    "    Ser = np.zeros(P,dtype='int16')\n",
    "    i = 0\n",
    "    for z in range(P):\n",
    "        Ser[MAP[i]] = np.sum(Route_Tensor[:,:,z]*Comm_M)\n",
    "        i += 1\n",
    "    return Ser"
   ]
  },
  {
   "cell_type": "code",
   "execution_count": 108,
   "metadata": {},
   "outputs": [
    {
     "name": "stdout",
     "output_type": "stream",
     "text": [
      "100\n",
      "200\n",
      "300\n",
      "400\n",
      "500\n",
      "600\n",
      "700\n",
      "800\n",
      "900\n"
     ]
    }
   ],
   "source": [
    "Data = []\n",
    "TT = 0\n",
    "for T in range(1000):\n",
    "    rand_series = np.random.permutation(np.arange(P))\n",
    "    random_map = {i:rand_series[i] for i in range(P)}\n",
    "    #random_map = Shuffle_with_Center(Center,Leaf)\n",
    "    New_M = switch_nodes(Unmap_Routine,random_map)\n",
    "    New_M = New_M/np.max(New_M)\n",
    "    Ser = Get_Saturability_Seq(Routint_Tensor,New_M,random_map)\n",
    "    T_Routine = get_BAMMA('BAMMA/P16_Fox441.csv',rank_map=random_map)\n",
    "    m_time = get_Longest(Real_Routine(T_Routine,Adj))\n",
    "    Data.append((Ser,m_time))\n",
    "    if T > TT + 99:\n",
    "        print(T)\n",
    "        TT = T"
   ]
  },
  {
   "cell_type": "code",
   "execution_count": 109,
   "metadata": {},
   "outputs": [],
   "source": [
    "X1 = []\n",
    "X2 = []\n",
    "Y = []\n",
    "for d in Data:\n",
    "    X1.append(np.max(d[0]))\n",
    "    X2.append(np.std(d[0],ddof=1))\n",
    "    Y.append(d[1])\n",
    "X1 = np.array(X1)\n",
    "X2 = np.array(X2)\n",
    "Y = np.array(Y)"
   ]
  },
  {
   "cell_type": "code",
   "execution_count": 110,
   "metadata": {},
   "outputs": [
    {
     "data": {
      "image/png": "[encoded data removed]",
      "text/plain": [
       "<Figure size 576x576 with 1 Axes>"
      ]
     },
     "metadata": {},
     "output_type": "display_data"
    }
   ],
   "source": [
    "T_Fig = plt.figure(figsize=(8,8))\n",
    "axT = T_Fig.add_subplot(1, 1, 1)\n",
    "w = 1\n",
    "axT.plot(w*X1+(1-w)*X2,Y,'r.')           \n",
    "axT.set_xlabel('Saturability',color='white')\n",
    "axT.set_ylabel('Time',color='white')\n",
    "plt.xticks(color='white')\n",
    "plt.yticks(color='white')\n",
    "plt.show()"
   ]
  },
  {
   "cell_type": "code",
   "execution_count": 33,
   "metadata": {},
   "outputs": [],
   "source": [
    "with open('seqData_1e6_16k3wheel2_BMR441.dat','w') as F:\n",
    "    for l in Data:\n",
    "        line = ''.join('%i,'%d for d in l[0])\n",
    "        line += '%i,'%l[1]\n",
    "        F.write(line[:-1])\n",
    "        F.write('\\n')\n",
    "\n",
    "F.close()"
   ]
  },
  {
   "cell_type": "markdown",
   "metadata": {},
   "source": [
    "# analytic convergence"
   ]
  },
  {
   "cell_type": "code",
   "execution_count": 58,
   "metadata": {},
   "outputs": [],
   "source": [
    "def Annealing_Energy(Ser):\n",
    "    return np.sum(np.square(Ser))"
   ]
  },
  {
   "cell_type": "code",
   "execution_count": 35,
   "metadata": {},
   "outputs": [
    {
     "data": {
      "text/plain": [
       "\"def Move_Randomly(tar_M, dist):\\n    global P\\n    mov_vec = np.zeros(P-1,dtype='float32')\\n    for i in range(P):\\n\""
      ]
     },
     "execution_count": 35,
     "metadata": {},
     "output_type": "execute_result"
    }
   ],
   "source": [
    "\"\"\"def Move_Randomly(tar_M, dist):\n",
    "    global P\n",
    "    mov_vec = np.zeros(P-1,dtype='float32')\n",
    "    for i in range(P):\n",
    "\"\"\"        "
   ]
  },
  {
   "cell_type": "code",
   "execution_count": 36,
   "metadata": {},
   "outputs": [],
   "source": [
    "def accumulate_map(map1,rot_map):\n",
    "    new_map = copy(map1)\n",
    "    for ind,val in rot_map.items():\n",
    "        new_map[ind] = copy(map1[val])\n",
    "    return new_map"
   ]
  },
  {
   "cell_type": "code",
   "execution_count": 37,
   "metadata": {},
   "outputs": [],
   "source": [
    "def get_rotmap_N(src,num=None):\n",
    "    if num == None:\n",
    "        num = len(src)\n",
    "    sub_src = np.random.choice(src,size=num,replace=False)\n",
    "    sub_tar = np.random.permutation(sub_src)\n",
    "    res = {}\n",
    "    for i in range(num):\n",
    "        res[sub_src[i]] = sub_tar[i]\n",
    "        \n",
    "    return res"
   ]
  },
  {
   "cell_type": "code",
   "execution_count": 112,
   "metadata": {},
   "outputs": [
    {
     "name": "stdout",
     "output_type": "stream",
     "text": [
      "0 --> 18398\n",
      "2 --> 18000\n",
      "7 --> 17344\n",
      "12 --> 15702\n",
      "19 --> 14204\n",
      "27 --> 13782\n",
      "30 --> 12438\n",
      "33 --> 12280\n",
      "36 --> 10170\n",
      "47 --> 9854\n",
      "56 --> 8858\n",
      "68 --> 8564\n",
      "71 --> 7988\n",
      "93 --> 7258\n",
      "103 --> 7234\n",
      "123 --> 7132\n",
      "126 --> 6934\n",
      "182 --> 6160\n",
      "337 --> 5888\n",
      "407 --> 5798\n",
      "408 --> 4880\n",
      "586 --> 4496\n",
      "845 --> 4322\n",
      "1133 --> 3996\n",
      "Finished --> 3996\n"
     ]
    }
   ],
   "source": [
    "good_Ser = None\n",
    "min_Energy = np.inf\n",
    "TT = 0\n",
    "\n",
    "#search_dist = 0.1\n",
    "\n",
    "rand_series = np.random.permutation(np.arange(P))\n",
    "map_n = {i:rand_series[i] for i in range(P)}\n",
    "#Map_n = Get_Exchange(rand_map).astype('float32')\n",
    "step = 0\n",
    "while TT < 3000:\n",
    "    # Get Random Map\n",
    "    mov_map = get_rotmap_N(range(P),2)\n",
    "    new_map = accumulate_map(map_n,mov_map)\n",
    "    \n",
    "    New_M = switch_nodes(Unmap_Routine,new_map)\n",
    "    New_M = New_M/np.max(New_M)\n",
    "    \n",
    "    # Evaluate Energy\n",
    "    Ser = Get_Saturability_Seq(Routint_Tensor,New_M,new_map)\n",
    "    En = Annealing_Energy(Ser)\n",
    "    if En < min_Energy:\n",
    "        min_Energy = En\n",
    "        good_Ser = Ser\n",
    "        map_n = new_map\n",
    "        TT = 0\n",
    "        print(step,'-->',min_Energy)\n",
    "        \n",
    "    TT += 1\n",
    "    step += 1\n",
    "print('Finished -->',min_Energy)"
   ]
  },
  {
   "cell_type": "code",
   "execution_count": 113,
   "metadata": {},
   "outputs": [
    {
     "data": {
      "text/plain": [
       "{0: 4,\n",
       " 1: 5,\n",
       " 2: 13,\n",
       " 3: 3,\n",
       " 4: 7,\n",
       " 5: 6,\n",
       " 6: 12,\n",
       " 7: 2,\n",
       " 8: 1,\n",
       " 9: 0,\n",
       " 10: 15,\n",
       " 11: 11,\n",
       " 12: 9,\n",
       " 13: 8,\n",
       " 14: 14,\n",
       " 15: 10}"
      ]
     },
     "execution_count": 113,
     "metadata": {},
     "output_type": "execute_result"
    }
   ],
   "source": [
    "map_n"
   ]
  },
  {
   "cell_type": "code",
   "execution_count": 114,
   "metadata": {},
   "outputs": [
    {
     "name": "stdout",
     "output_type": "stream",
     "text": [
      "1650688\n"
     ]
    }
   ],
   "source": [
    "T_Routine = get_BAMMA('BAMMA/P16_Fox441.csv',rank_map=map_n)\n",
    "print(get_Longest(Real_Routine(T_Routine,Adj)))"
   ]
  },
  {
   "cell_type": "code",
   "execution_count": null,
   "metadata": {},
   "outputs": [],
   "source": []
  }
 ],
 "metadata": {
  "kernelspec": {
   "display_name": "Python 3",
   "language": "python",
   "name": "python3"
  },
  "language_info": {
   "codemirror_mode": {
    "name": "ipython",
    "version": 3
   },
   "file_extension": ".py",
   "mimetype": "text/x-python",
   "name": "python",
   "nbconvert_exporter": "python",
   "pygments_lexer": "ipython3",
   "version": "3.6.3"
  },
  "widgets": {
   "application/vnd.jupyter.widget-state+json": {
    "state": {},
    "version_major": 2,
    "version_minor": 0
   }
  }
 },
 "nbformat": 4,
 "nbformat_minor": 2
}
